{
 "cells": [
  {
   "cell_type": "code",
   "execution_count": 1,
   "metadata": {
    "collapsed": true
   },
   "outputs": [],
   "source": [
    "import pandas as pd\n",
    "import numpy as np\n",
    "import seaborn as sns\n",
    "import matplotlib.pyplot as plt\n",
    "% matplotlib inline\n",
    "from sklearn.ensemble import RandomForestClassifier\n",
    "from sklearn.preprocessing import robust_scale\n",
    "from sklearn import preprocessing\n",
    "from sklearn.preprocessing import OneHotEncoder\n",
    "from sklearn import metrics\n",
    "from sklearn.model_selection import train_test_split\n",
    "from sklearn import datasets, linear_model\n",
    "import scipy.stats as stats\n",
    "import statistics"
   ]
  },
  {
   "cell_type": "code",
   "execution_count": 2,
   "metadata": {
    "collapsed": false
   },
   "outputs": [
    {
     "data": {
      "text/html": [
       "<div>\n",
       "<table border=\"1\" class=\"dataframe\">\n",
       "  <thead>\n",
       "    <tr style=\"text-align: right;\">\n",
       "      <th></th>\n",
       "      <th>timestamp</th>\n",
       "      <th>task_id</th>\n",
       "      <th>worker_id</th>\n",
       "      <th>keypress_keytypeint</th>\n",
       "      <th>mousemove_distance</th>\n",
       "      <th>mouseclick_button</th>\n",
       "      <th>work_duration</th>\n",
       "      <th>accuracy</th>\n",
       "    </tr>\n",
       "  </thead>\n",
       "  <tbody>\n",
       "    <tr>\n",
       "      <th>0</th>\n",
       "      <td>1470267718900</td>\n",
       "      <td>57a28146e2013f2463dcd0b8</td>\n",
       "      <td>512dbf09c32206698e000518</td>\n",
       "      <td>4.0</td>\n",
       "      <td>NaN</td>\n",
       "      <td>NaN</td>\n",
       "      <td>23.884</td>\n",
       "      <td>1.0</td>\n",
       "    </tr>\n",
       "    <tr>\n",
       "      <th>1</th>\n",
       "      <td>1470267724803</td>\n",
       "      <td>57a28146e2013f2463dcd0b8</td>\n",
       "      <td>512dbf09c32206698e000518</td>\n",
       "      <td>6.0</td>\n",
       "      <td>NaN</td>\n",
       "      <td>NaN</td>\n",
       "      <td>23.884</td>\n",
       "      <td>1.0</td>\n",
       "    </tr>\n",
       "    <tr>\n",
       "      <th>2</th>\n",
       "      <td>1470267724823</td>\n",
       "      <td>57a28146e2013f2463dcd0b8</td>\n",
       "      <td>512dbf09c32206698e000518</td>\n",
       "      <td>6.0</td>\n",
       "      <td>NaN</td>\n",
       "      <td>NaN</td>\n",
       "      <td>23.884</td>\n",
       "      <td>1.0</td>\n",
       "    </tr>\n",
       "    <tr>\n",
       "      <th>3</th>\n",
       "      <td>1470267725117</td>\n",
       "      <td>57a28146e2013f2463dcd0b8</td>\n",
       "      <td>512dbf09c32206698e000518</td>\n",
       "      <td>12.0</td>\n",
       "      <td>NaN</td>\n",
       "      <td>NaN</td>\n",
       "      <td>23.884</td>\n",
       "      <td>1.0</td>\n",
       "    </tr>\n",
       "    <tr>\n",
       "      <th>4</th>\n",
       "      <td>1470267725276</td>\n",
       "      <td>57a28146e2013f2463dcd0b8</td>\n",
       "      <td>512dbf09c32206698e000518</td>\n",
       "      <td>12.0</td>\n",
       "      <td>NaN</td>\n",
       "      <td>NaN</td>\n",
       "      <td>23.884</td>\n",
       "      <td>1.0</td>\n",
       "    </tr>\n",
       "  </tbody>\n",
       "</table>\n",
       "</div>"
      ],
      "text/plain": [
       "       timestamp                   task_id                 worker_id  \\\n",
       "0  1470267718900  57a28146e2013f2463dcd0b8  512dbf09c32206698e000518   \n",
       "1  1470267724803  57a28146e2013f2463dcd0b8  512dbf09c32206698e000518   \n",
       "2  1470267724823  57a28146e2013f2463dcd0b8  512dbf09c32206698e000518   \n",
       "3  1470267725117  57a28146e2013f2463dcd0b8  512dbf09c32206698e000518   \n",
       "4  1470267725276  57a28146e2013f2463dcd0b8  512dbf09c32206698e000518   \n",
       "\n",
       "   keypress_keytypeint  mousemove_distance  mouseclick_button  work_duration  \\\n",
       "0                  4.0                 NaN                NaN         23.884   \n",
       "1                  6.0                 NaN                NaN         23.884   \n",
       "2                  6.0                 NaN                NaN         23.884   \n",
       "3                 12.0                 NaN                NaN         23.884   \n",
       "4                 12.0                 NaN                NaN         23.884   \n",
       "\n",
       "   accuracy  \n",
       "0       1.0  \n",
       "1       1.0  \n",
       "2       1.0  \n",
       "3       1.0  \n",
       "4       1.0  "
      ]
     },
     "execution_count": 2,
     "metadata": {},
     "output_type": "execute_result"
    }
   ],
   "source": [
    "data = pd.read_csv('CloudFactory_DataSet_Accuracy_Prediction.tsv', sep ='\\t')\n",
    "data.head()"
   ]
  },
  {
   "cell_type": "code",
   "execution_count": 3,
   "metadata": {
    "collapsed": false
   },
   "outputs": [],
   "source": [
    "data = data.assign(keytype_changed= \"0\")"
   ]
  },
  {
   "cell_type": "raw",
   "metadata": {
    "collapsed": false
   },
   "source": [
    "ids = data['task_id'].unique()"
   ]
  },
  {
   "cell_type": "raw",
   "metadata": {
    "collapsed": false
   },
   "source": [
    "ids"
   ]
  },
  {
   "cell_type": "raw",
   "metadata": {
    "collapsed": true
   },
   "source": [
    "data.fillna(value =0, inplace = True)"
   ]
  },
  {
   "cell_type": "raw",
   "metadata": {
    "collapsed": false
   },
   "source": [
    "data.head()"
   ]
  },
  {
   "cell_type": "raw",
   "metadata": {
    "collapsed": false
   },
   "source": [
    "master = pd.DataFrame(columns = ['task_id','worker_id','keypress_keytypeint','mousemove_distance','mouseclick_button','work_duration','accuracy'])"
   ]
  },
  {
   "cell_type": "raw",
   "metadata": {
    "collapsed": false
   },
   "source": [
    "master"
   ]
  },
  {
   "cell_type": "raw",
   "metadata": {
    "collapsed": false
   },
   "source": [
    "j = 1\n",
    "for i in ids:\n",
    "    m = pd.DataFrame(data[data['task_id'] == i])\n",
    "    m.reset_index(drop = True, inplace = True)\n",
    "    maxi = m.shape[0]\n",
    "    print (j)\n",
    "    j = j+1 \n",
    "    for i in range(0, maxi-1):\n",
    "        if m['keypress_keytypeint'][i] != m['keypress_keytypeint'][i+1]:\n",
    "            m['keytype_changed'][i+1] =1\n",
    "    frames = [master, m]\n",
    "    master = pd.concat(frames)        "
   ]
  },
  {
   "cell_type": "raw",
   "metadata": {
    "collapsed": false,
    "scrolled": true
   },
   "source": [
    "master.to_csv('master.csv')"
   ]
  },
  {
   "cell_type": "code",
   "execution_count": 4,
   "metadata": {
    "collapsed": true
   },
   "outputs": [],
   "source": [
    "data = pd.read_csv('master.csv')"
   ]
  },
  {
   "cell_type": "code",
   "execution_count": 5,
   "metadata": {
    "collapsed": false
   },
   "outputs": [
    {
     "data": {
      "text/html": [
       "<div>\n",
       "<table border=\"1\" class=\"dataframe\">\n",
       "  <thead>\n",
       "    <tr style=\"text-align: right;\">\n",
       "      <th></th>\n",
       "      <th>accuracy</th>\n",
       "      <th>keypress_keytypeint</th>\n",
       "      <th>keytype_changed</th>\n",
       "      <th>mouseclick_button</th>\n",
       "      <th>mousemove_distance</th>\n",
       "      <th>task_id</th>\n",
       "      <th>timestamp</th>\n",
       "      <th>work_duration</th>\n",
       "      <th>worker_id</th>\n",
       "    </tr>\n",
       "  </thead>\n",
       "  <tbody>\n",
       "    <tr>\n",
       "      <th>0</th>\n",
       "      <td>1.0</td>\n",
       "      <td>4</td>\n",
       "      <td>0</td>\n",
       "      <td>0</td>\n",
       "      <td>0.0</td>\n",
       "      <td>57a28146e2013f2463dcd0b8</td>\n",
       "      <td>1.470270e+12</td>\n",
       "      <td>23.884</td>\n",
       "      <td>512dbf09c32206698e000518</td>\n",
       "    </tr>\n",
       "    <tr>\n",
       "      <th>1</th>\n",
       "      <td>1.0</td>\n",
       "      <td>6</td>\n",
       "      <td>1</td>\n",
       "      <td>0</td>\n",
       "      <td>0.0</td>\n",
       "      <td>57a28146e2013f2463dcd0b8</td>\n",
       "      <td>1.470270e+12</td>\n",
       "      <td>23.884</td>\n",
       "      <td>512dbf09c32206698e000518</td>\n",
       "    </tr>\n",
       "    <tr>\n",
       "      <th>2</th>\n",
       "      <td>1.0</td>\n",
       "      <td>6</td>\n",
       "      <td>0</td>\n",
       "      <td>0</td>\n",
       "      <td>0.0</td>\n",
       "      <td>57a28146e2013f2463dcd0b8</td>\n",
       "      <td>1.470270e+12</td>\n",
       "      <td>23.884</td>\n",
       "      <td>512dbf09c32206698e000518</td>\n",
       "    </tr>\n",
       "    <tr>\n",
       "      <th>3</th>\n",
       "      <td>1.0</td>\n",
       "      <td>12</td>\n",
       "      <td>1</td>\n",
       "      <td>0</td>\n",
       "      <td>0.0</td>\n",
       "      <td>57a28146e2013f2463dcd0b8</td>\n",
       "      <td>1.470270e+12</td>\n",
       "      <td>23.884</td>\n",
       "      <td>512dbf09c32206698e000518</td>\n",
       "    </tr>\n",
       "    <tr>\n",
       "      <th>4</th>\n",
       "      <td>1.0</td>\n",
       "      <td>12</td>\n",
       "      <td>0</td>\n",
       "      <td>0</td>\n",
       "      <td>0.0</td>\n",
       "      <td>57a28146e2013f2463dcd0b8</td>\n",
       "      <td>1.470270e+12</td>\n",
       "      <td>23.884</td>\n",
       "      <td>512dbf09c32206698e000518</td>\n",
       "    </tr>\n",
       "  </tbody>\n",
       "</table>\n",
       "</div>"
      ],
      "text/plain": [
       "   accuracy  keypress_keytypeint  keytype_changed  mouseclick_button  \\\n",
       "0       1.0                    4                0                  0   \n",
       "1       1.0                    6                1                  0   \n",
       "2       1.0                    6                0                  0   \n",
       "3       1.0                   12                1                  0   \n",
       "4       1.0                   12                0                  0   \n",
       "\n",
       "   mousemove_distance                   task_id     timestamp  work_duration  \\\n",
       "0                 0.0  57a28146e2013f2463dcd0b8  1.470270e+12         23.884   \n",
       "1                 0.0  57a28146e2013f2463dcd0b8  1.470270e+12         23.884   \n",
       "2                 0.0  57a28146e2013f2463dcd0b8  1.470270e+12         23.884   \n",
       "3                 0.0  57a28146e2013f2463dcd0b8  1.470270e+12         23.884   \n",
       "4                 0.0  57a28146e2013f2463dcd0b8  1.470270e+12         23.884   \n",
       "\n",
       "                  worker_id  \n",
       "0  512dbf09c32206698e000518  \n",
       "1  512dbf09c32206698e000518  \n",
       "2  512dbf09c32206698e000518  \n",
       "3  512dbf09c32206698e000518  \n",
       "4  512dbf09c32206698e000518  "
      ]
     },
     "execution_count": 5,
     "metadata": {},
     "output_type": "execute_result"
    }
   ],
   "source": [
    "data.head()"
   ]
  },
  {
   "cell_type": "code",
   "execution_count": 6,
   "metadata": {
    "collapsed": false
   },
   "outputs": [],
   "source": [
    "data = data.groupby(['worker_id','task_id']).mean()"
   ]
  },
  {
   "cell_type": "code",
   "execution_count": 7,
   "metadata": {
    "collapsed": false
   },
   "outputs": [],
   "source": [
    "data = data.reset_index(level=0)"
   ]
  },
  {
   "cell_type": "code",
   "execution_count": 8,
   "metadata": {
    "collapsed": false
   },
   "outputs": [],
   "source": [
    "data = data.reset_index(level = 0)"
   ]
  },
  {
   "cell_type": "code",
   "execution_count": 9,
   "metadata": {
    "collapsed": false
   },
   "outputs": [
    {
     "data": {
      "text/html": [
       "<div>\n",
       "<table border=\"1\" class=\"dataframe\">\n",
       "  <thead>\n",
       "    <tr style=\"text-align: right;\">\n",
       "      <th></th>\n",
       "      <th>task_id</th>\n",
       "      <th>worker_id</th>\n",
       "      <th>accuracy</th>\n",
       "      <th>keypress_keytypeint</th>\n",
       "      <th>keytype_changed</th>\n",
       "      <th>mouseclick_button</th>\n",
       "      <th>mousemove_distance</th>\n",
       "      <th>timestamp</th>\n",
       "      <th>work_duration</th>\n",
       "    </tr>\n",
       "  </thead>\n",
       "  <tbody>\n",
       "    <tr>\n",
       "      <th>0</th>\n",
       "      <td>57a2997ee2013f0c5a5d9f33</td>\n",
       "      <td>501767d1cb022453170004dc</td>\n",
       "      <td>0.833333</td>\n",
       "      <td>6.879310</td>\n",
       "      <td>0.517241</td>\n",
       "      <td>0.068966</td>\n",
       "      <td>19.722592</td>\n",
       "      <td>1.470270e+12</td>\n",
       "      <td>88.318</td>\n",
       "    </tr>\n",
       "    <tr>\n",
       "      <th>1</th>\n",
       "      <td>57a2997ee2013f0c5a5d9f34</td>\n",
       "      <td>501767d1cb022453170004dc</td>\n",
       "      <td>1.000000</td>\n",
       "      <td>3.463768</td>\n",
       "      <td>0.217391</td>\n",
       "      <td>0.376812</td>\n",
       "      <td>7.173393</td>\n",
       "      <td>1.470270e+12</td>\n",
       "      <td>34.392</td>\n",
       "    </tr>\n",
       "    <tr>\n",
       "      <th>2</th>\n",
       "      <td>57a2997ee2013f0c5a5d9f35</td>\n",
       "      <td>501767d1cb022453170004dc</td>\n",
       "      <td>1.000000</td>\n",
       "      <td>4.918367</td>\n",
       "      <td>0.346939</td>\n",
       "      <td>0.061224</td>\n",
       "      <td>22.958495</td>\n",
       "      <td>1.470270e+12</td>\n",
       "      <td>18.640</td>\n",
       "    </tr>\n",
       "    <tr>\n",
       "      <th>3</th>\n",
       "      <td>57a2997ee2013f0c5a5d9f36</td>\n",
       "      <td>501767d1cb022453170004dc</td>\n",
       "      <td>0.833333</td>\n",
       "      <td>6.209302</td>\n",
       "      <td>0.372093</td>\n",
       "      <td>0.093023</td>\n",
       "      <td>8.415718</td>\n",
       "      <td>1.470270e+12</td>\n",
       "      <td>15.841</td>\n",
       "    </tr>\n",
       "    <tr>\n",
       "      <th>4</th>\n",
       "      <td>57a2997ee2013f0c5a5d9f37</td>\n",
       "      <td>501767d1cb022453170004dc</td>\n",
       "      <td>1.000000</td>\n",
       "      <td>5.755556</td>\n",
       "      <td>0.333333</td>\n",
       "      <td>0.155556</td>\n",
       "      <td>2.868044</td>\n",
       "      <td>1.470270e+12</td>\n",
       "      <td>15.844</td>\n",
       "    </tr>\n",
       "  </tbody>\n",
       "</table>\n",
       "</div>"
      ],
      "text/plain": [
       "                    task_id                 worker_id  accuracy  \\\n",
       "0  57a2997ee2013f0c5a5d9f33  501767d1cb022453170004dc  0.833333   \n",
       "1  57a2997ee2013f0c5a5d9f34  501767d1cb022453170004dc  1.000000   \n",
       "2  57a2997ee2013f0c5a5d9f35  501767d1cb022453170004dc  1.000000   \n",
       "3  57a2997ee2013f0c5a5d9f36  501767d1cb022453170004dc  0.833333   \n",
       "4  57a2997ee2013f0c5a5d9f37  501767d1cb022453170004dc  1.000000   \n",
       "\n",
       "   keypress_keytypeint  keytype_changed  mouseclick_button  \\\n",
       "0             6.879310         0.517241           0.068966   \n",
       "1             3.463768         0.217391           0.376812   \n",
       "2             4.918367         0.346939           0.061224   \n",
       "3             6.209302         0.372093           0.093023   \n",
       "4             5.755556         0.333333           0.155556   \n",
       "\n",
       "   mousemove_distance     timestamp  work_duration  \n",
       "0           19.722592  1.470270e+12         88.318  \n",
       "1            7.173393  1.470270e+12         34.392  \n",
       "2           22.958495  1.470270e+12         18.640  \n",
       "3            8.415718  1.470270e+12         15.841  \n",
       "4            2.868044  1.470270e+12         15.844  "
      ]
     },
     "execution_count": 9,
     "metadata": {},
     "output_type": "execute_result"
    }
   ],
   "source": [
    "data.head()"
   ]
  },
  {
   "cell_type": "code",
   "execution_count": 10,
   "metadata": {
    "collapsed": true
   },
   "outputs": [],
   "source": [
    "del data['timestamp']"
   ]
  },
  {
   "cell_type": "code",
   "execution_count": 11,
   "metadata": {
    "collapsed": false
   },
   "outputs": [
    {
     "data": {
      "text/html": [
       "<div>\n",
       "<table border=\"1\" class=\"dataframe\">\n",
       "  <thead>\n",
       "    <tr style=\"text-align: right;\">\n",
       "      <th></th>\n",
       "      <th>task_id</th>\n",
       "      <th>worker_id</th>\n",
       "      <th>accuracy</th>\n",
       "      <th>keypress_keytypeint</th>\n",
       "      <th>keytype_changed</th>\n",
       "      <th>mouseclick_button</th>\n",
       "      <th>mousemove_distance</th>\n",
       "      <th>work_duration</th>\n",
       "    </tr>\n",
       "  </thead>\n",
       "  <tbody>\n",
       "    <tr>\n",
       "      <th>0</th>\n",
       "      <td>57a2997ee2013f0c5a5d9f33</td>\n",
       "      <td>501767d1cb022453170004dc</td>\n",
       "      <td>0.833333</td>\n",
       "      <td>6.879310</td>\n",
       "      <td>0.517241</td>\n",
       "      <td>0.068966</td>\n",
       "      <td>19.722592</td>\n",
       "      <td>88.318</td>\n",
       "    </tr>\n",
       "    <tr>\n",
       "      <th>1</th>\n",
       "      <td>57a2997ee2013f0c5a5d9f34</td>\n",
       "      <td>501767d1cb022453170004dc</td>\n",
       "      <td>1.000000</td>\n",
       "      <td>3.463768</td>\n",
       "      <td>0.217391</td>\n",
       "      <td>0.376812</td>\n",
       "      <td>7.173393</td>\n",
       "      <td>34.392</td>\n",
       "    </tr>\n",
       "    <tr>\n",
       "      <th>2</th>\n",
       "      <td>57a2997ee2013f0c5a5d9f35</td>\n",
       "      <td>501767d1cb022453170004dc</td>\n",
       "      <td>1.000000</td>\n",
       "      <td>4.918367</td>\n",
       "      <td>0.346939</td>\n",
       "      <td>0.061224</td>\n",
       "      <td>22.958495</td>\n",
       "      <td>18.640</td>\n",
       "    </tr>\n",
       "    <tr>\n",
       "      <th>3</th>\n",
       "      <td>57a2997ee2013f0c5a5d9f36</td>\n",
       "      <td>501767d1cb022453170004dc</td>\n",
       "      <td>0.833333</td>\n",
       "      <td>6.209302</td>\n",
       "      <td>0.372093</td>\n",
       "      <td>0.093023</td>\n",
       "      <td>8.415718</td>\n",
       "      <td>15.841</td>\n",
       "    </tr>\n",
       "    <tr>\n",
       "      <th>4</th>\n",
       "      <td>57a2997ee2013f0c5a5d9f37</td>\n",
       "      <td>501767d1cb022453170004dc</td>\n",
       "      <td>1.000000</td>\n",
       "      <td>5.755556</td>\n",
       "      <td>0.333333</td>\n",
       "      <td>0.155556</td>\n",
       "      <td>2.868044</td>\n",
       "      <td>15.844</td>\n",
       "    </tr>\n",
       "  </tbody>\n",
       "</table>\n",
       "</div>"
      ],
      "text/plain": [
       "                    task_id                 worker_id  accuracy  \\\n",
       "0  57a2997ee2013f0c5a5d9f33  501767d1cb022453170004dc  0.833333   \n",
       "1  57a2997ee2013f0c5a5d9f34  501767d1cb022453170004dc  1.000000   \n",
       "2  57a2997ee2013f0c5a5d9f35  501767d1cb022453170004dc  1.000000   \n",
       "3  57a2997ee2013f0c5a5d9f36  501767d1cb022453170004dc  0.833333   \n",
       "4  57a2997ee2013f0c5a5d9f37  501767d1cb022453170004dc  1.000000   \n",
       "\n",
       "   keypress_keytypeint  keytype_changed  mouseclick_button  \\\n",
       "0             6.879310         0.517241           0.068966   \n",
       "1             3.463768         0.217391           0.376812   \n",
       "2             4.918367         0.346939           0.061224   \n",
       "3             6.209302         0.372093           0.093023   \n",
       "4             5.755556         0.333333           0.155556   \n",
       "\n",
       "   mousemove_distance  work_duration  \n",
       "0           19.722592         88.318  \n",
       "1            7.173393         34.392  \n",
       "2           22.958495         18.640  \n",
       "3            8.415718         15.841  \n",
       "4            2.868044         15.844  "
      ]
     },
     "execution_count": 11,
     "metadata": {},
     "output_type": "execute_result"
    }
   ],
   "source": [
    "data.head()"
   ]
  },
  {
   "cell_type": "code",
   "execution_count": 12,
   "metadata": {
    "collapsed": false
   },
   "outputs": [
    {
     "data": {
      "text/plain": [
       "-0.026644051093336132"
      ]
     },
     "execution_count": 12,
     "metadata": {},
     "output_type": "execute_result"
    }
   ],
   "source": [
    "data['keytype_changed'].corr(data['accuracy'])"
   ]
  },
  {
   "cell_type": "code",
   "execution_count": 13,
   "metadata": {
    "collapsed": true
   },
   "outputs": [],
   "source": [
    "data['accuracy'] = data['accuracy'] * 6\n",
    "data['accuracy'] = data['accuracy'].round()"
   ]
  },
  {
   "cell_type": "code",
   "execution_count": 14,
   "metadata": {
    "collapsed": false
   },
   "outputs": [],
   "source": [
    "data.loc[data['accuracy']!=6, 'accuracy'] = 0"
   ]
  },
  {
   "cell_type": "code",
   "execution_count": 15,
   "metadata": {
    "collapsed": false
   },
   "outputs": [
    {
     "data": {
      "text/plain": [
       "6.0    2626\n",
       "0.0    2374\n",
       "Name: accuracy, dtype: int64"
      ]
     },
     "execution_count": 15,
     "metadata": {},
     "output_type": "execute_result"
    }
   ],
   "source": [
    "data['accuracy'].value_counts()"
   ]
  },
  {
   "cell_type": "code",
   "execution_count": 16,
   "metadata": {
    "collapsed": false
   },
   "outputs": [
    {
     "data": {
      "text/plain": [
       "0.010084178764958691"
      ]
     },
     "execution_count": 16,
     "metadata": {},
     "output_type": "execute_result"
    }
   ],
   "source": [
    "data['keytype_changed'].corr(data['accuracy'])"
   ]
  },
  {
   "cell_type": "code",
   "execution_count": 17,
   "metadata": {
    "collapsed": true
   },
   "outputs": [],
   "source": [
    "x = data.drop(['task_id','worker_id','keypress_keytypeint','accuracy'], axis =1)\n",
    "y = data['accuracy']\n",
    "\n",
    "x_train, x_test, y_train, y_test = train_test_split (x,y, test_size = 0.35, random_state = 101)"
   ]
  },
  {
   "cell_type": "code",
   "execution_count": 18,
   "metadata": {
    "collapsed": true
   },
   "outputs": [],
   "source": [
    "from sklearn.linear_model import LogisticRegression"
   ]
  },
  {
   "cell_type": "code",
   "execution_count": 19,
   "metadata": {
    "collapsed": true
   },
   "outputs": [],
   "source": [
    "logmod = LogisticRegression()"
   ]
  },
  {
   "cell_type": "code",
   "execution_count": 20,
   "metadata": {
    "collapsed": false
   },
   "outputs": [
    {
     "data": {
      "text/plain": [
       "LogisticRegression(C=1.0, class_weight=None, dual=False, fit_intercept=True,\n",
       "          intercept_scaling=1, max_iter=100, multi_class='ovr', n_jobs=1,\n",
       "          penalty='l2', random_state=None, solver='liblinear', tol=0.0001,\n",
       "          verbose=0, warm_start=False)"
      ]
     },
     "execution_count": 20,
     "metadata": {},
     "output_type": "execute_result"
    }
   ],
   "source": [
    "logmod.fit( x_train, y_train)"
   ]
  },
  {
   "cell_type": "code",
   "execution_count": 21,
   "metadata": {
    "collapsed": true
   },
   "outputs": [],
   "source": [
    "predictions = logmod.predict(x_test)"
   ]
  },
  {
   "cell_type": "code",
   "execution_count": 22,
   "metadata": {
    "collapsed": false
   },
   "outputs": [
    {
     "name": "stdout",
     "output_type": "stream",
     "text": [
      "             precision    recall  f1-score   support\n",
      "\n",
      "        0.0       0.63      0.32      0.43       857\n",
      "        6.0       0.56      0.82      0.66       893\n",
      "\n",
      "avg / total       0.59      0.58      0.55      1750\n",
      "\n"
     ]
    }
   ],
   "source": [
    "from sklearn.metrics import classification_report\n",
    "print (classification_report(y_test,predictions))"
   ]
  },
  {
   "cell_type": "code",
   "execution_count": 23,
   "metadata": {
    "collapsed": false
   },
   "outputs": [
    {
     "data": {
      "text/plain": [
       "array([[277, 580],\n",
       "       [162, 731]])"
      ]
     },
     "execution_count": 23,
     "metadata": {},
     "output_type": "execute_result"
    }
   ],
   "source": [
    "from sklearn.metrics import confusion_matrix\n",
    "confusion_matrix(y_test,predictions,)"
   ]
  },
  {
   "cell_type": "code",
   "execution_count": null,
   "metadata": {
    "collapsed": true
   },
   "outputs": [],
   "source": []
  },
  {
   "cell_type": "code",
   "execution_count": null,
   "metadata": {
    "collapsed": true
   },
   "outputs": [],
   "source": []
  }
 ],
 "metadata": {
  "anaconda-cloud": {},
  "kernelspec": {
   "display_name": "Python [conda root]",
   "language": "python",
   "name": "conda-root-py"
  },
  "language_info": {
   "codemirror_mode": {
    "name": "ipython",
    "version": 3
   },
   "file_extension": ".py",
   "mimetype": "text/x-python",
   "name": "python",
   "nbconvert_exporter": "python",
   "pygments_lexer": "ipython3",
   "version": "3.5.2"
  }
 },
 "nbformat": 4,
 "nbformat_minor": 1
}
