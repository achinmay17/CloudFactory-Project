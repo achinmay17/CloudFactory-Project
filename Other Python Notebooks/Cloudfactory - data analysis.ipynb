{
 "cells": [
  {
   "cell_type": "code",
   "execution_count": 1,
   "metadata": {
    "collapsed": false
   },
   "outputs": [],
   "source": [
    "import pandas as pd\n",
    "import numpy as np\n",
    "import seaborn as sns\n",
    "import matplotlib.pyplot as plt\n",
    "% matplotlib inline\n",
    "from sklearn.ensemble import RandomForestClassifier\n",
    "from sklearn.preprocessing import robust_scale\n",
    "from sklearn import preprocessing\n",
    "from sklearn.preprocessing import OneHotEncoder\n",
    "from sklearn import metrics\n",
    "from sklearn.model_selection import train_test_split\n",
    "from sklearn import datasets, linear_model\n",
    "import scipy.stats as stats\n",
    "import statistics"
   ]
  },
  {
   "cell_type": "code",
   "execution_count": 2,
   "metadata": {
    "collapsed": false
   },
   "outputs": [
    {
     "data": {
      "text/html": [
       "<div>\n",
       "<table border=\"1\" class=\"dataframe\">\n",
       "  <thead>\n",
       "    <tr style=\"text-align: right;\">\n",
       "      <th></th>\n",
       "      <th>timestamp</th>\n",
       "      <th>task_id</th>\n",
       "      <th>worker_id</th>\n",
       "      <th>keypress_keytypeint</th>\n",
       "      <th>mousemove_distance</th>\n",
       "      <th>mouseclick_button</th>\n",
       "      <th>work_duration</th>\n",
       "      <th>accuracy</th>\n",
       "    </tr>\n",
       "  </thead>\n",
       "  <tbody>\n",
       "    <tr>\n",
       "      <th>0</th>\n",
       "      <td>1470267718900</td>\n",
       "      <td>57a28146e2013f2463dcd0b8</td>\n",
       "      <td>512dbf09c32206698e000518</td>\n",
       "      <td>4.0</td>\n",
       "      <td>NaN</td>\n",
       "      <td>NaN</td>\n",
       "      <td>23.884</td>\n",
       "      <td>1.0</td>\n",
       "    </tr>\n",
       "    <tr>\n",
       "      <th>1</th>\n",
       "      <td>1470267724803</td>\n",
       "      <td>57a28146e2013f2463dcd0b8</td>\n",
       "      <td>512dbf09c32206698e000518</td>\n",
       "      <td>6.0</td>\n",
       "      <td>NaN</td>\n",
       "      <td>NaN</td>\n",
       "      <td>23.884</td>\n",
       "      <td>1.0</td>\n",
       "    </tr>\n",
       "    <tr>\n",
       "      <th>2</th>\n",
       "      <td>1470267724823</td>\n",
       "      <td>57a28146e2013f2463dcd0b8</td>\n",
       "      <td>512dbf09c32206698e000518</td>\n",
       "      <td>6.0</td>\n",
       "      <td>NaN</td>\n",
       "      <td>NaN</td>\n",
       "      <td>23.884</td>\n",
       "      <td>1.0</td>\n",
       "    </tr>\n",
       "    <tr>\n",
       "      <th>3</th>\n",
       "      <td>1470267725117</td>\n",
       "      <td>57a28146e2013f2463dcd0b8</td>\n",
       "      <td>512dbf09c32206698e000518</td>\n",
       "      <td>12.0</td>\n",
       "      <td>NaN</td>\n",
       "      <td>NaN</td>\n",
       "      <td>23.884</td>\n",
       "      <td>1.0</td>\n",
       "    </tr>\n",
       "    <tr>\n",
       "      <th>4</th>\n",
       "      <td>1470267725276</td>\n",
       "      <td>57a28146e2013f2463dcd0b8</td>\n",
       "      <td>512dbf09c32206698e000518</td>\n",
       "      <td>12.0</td>\n",
       "      <td>NaN</td>\n",
       "      <td>NaN</td>\n",
       "      <td>23.884</td>\n",
       "      <td>1.0</td>\n",
       "    </tr>\n",
       "  </tbody>\n",
       "</table>\n",
       "</div>"
      ],
      "text/plain": [
       "       timestamp                   task_id                 worker_id  \\\n",
       "0  1470267718900  57a28146e2013f2463dcd0b8  512dbf09c32206698e000518   \n",
       "1  1470267724803  57a28146e2013f2463dcd0b8  512dbf09c32206698e000518   \n",
       "2  1470267724823  57a28146e2013f2463dcd0b8  512dbf09c32206698e000518   \n",
       "3  1470267725117  57a28146e2013f2463dcd0b8  512dbf09c32206698e000518   \n",
       "4  1470267725276  57a28146e2013f2463dcd0b8  512dbf09c32206698e000518   \n",
       "\n",
       "   keypress_keytypeint  mousemove_distance  mouseclick_button  work_duration  \\\n",
       "0                  4.0                 NaN                NaN         23.884   \n",
       "1                  6.0                 NaN                NaN         23.884   \n",
       "2                  6.0                 NaN                NaN         23.884   \n",
       "3                 12.0                 NaN                NaN         23.884   \n",
       "4                 12.0                 NaN                NaN         23.884   \n",
       "\n",
       "   accuracy  \n",
       "0       1.0  \n",
       "1       1.0  \n",
       "2       1.0  \n",
       "3       1.0  \n",
       "4       1.0  "
      ]
     },
     "execution_count": 2,
     "metadata": {},
     "output_type": "execute_result"
    }
   ],
   "source": [
    "df = pd.read_csv('CloudFactory_DataSet_Accuracy_Prediction.tsv', sep='\\t')\n",
    "df.head()"
   ]
  },
  {
   "cell_type": "code",
   "execution_count": 3,
   "metadata": {
    "collapsed": false
   },
   "outputs": [
    {
     "name": "stdout",
     "output_type": "stream",
     "text": [
      "<class 'pandas.core.frame.DataFrame'>\n",
      "RangeIndex: 239464 entries, 0 to 239463\n",
      "Data columns (total 8 columns):\n",
      "timestamp              239464 non-null int64\n",
      "task_id                239464 non-null object\n",
      "worker_id              239464 non-null object\n",
      "keypress_keytypeint    186671 non-null float64\n",
      "mousemove_distance     24430 non-null float64\n",
      "mouseclick_button      28608 non-null float64\n",
      "work_duration          239464 non-null float64\n",
      "accuracy               239464 non-null float64\n",
      "dtypes: float64(5), int64(1), object(2)\n",
      "memory usage: 14.6+ MB\n"
     ]
    }
   ],
   "source": [
    "df.info()"
   ]
  },
  {
   "cell_type": "code",
   "execution_count": 4,
   "metadata": {
    "collapsed": false
   },
   "outputs": [
    {
     "data": {
      "text/html": [
       "<div>\n",
       "<table border=\"1\" class=\"dataframe\">\n",
       "  <thead>\n",
       "    <tr style=\"text-align: right;\">\n",
       "      <th></th>\n",
       "      <th>timestamp</th>\n",
       "      <th>task_id</th>\n",
       "      <th>worker_id</th>\n",
       "      <th>keypress_keytypeint</th>\n",
       "      <th>mousemove_distance</th>\n",
       "      <th>mouseclick_button</th>\n",
       "      <th>work_duration</th>\n",
       "      <th>accuracy</th>\n",
       "    </tr>\n",
       "  </thead>\n",
       "  <tbody>\n",
       "    <tr>\n",
       "      <th>0</th>\n",
       "      <td>1470267718900</td>\n",
       "      <td>57a28146e2013f2463dcd0b8</td>\n",
       "      <td>512dbf09c32206698e000518</td>\n",
       "      <td>4.0</td>\n",
       "      <td>0.0</td>\n",
       "      <td>0.0</td>\n",
       "      <td>23.884</td>\n",
       "      <td>1.0</td>\n",
       "    </tr>\n",
       "    <tr>\n",
       "      <th>1</th>\n",
       "      <td>1470267724803</td>\n",
       "      <td>57a28146e2013f2463dcd0b8</td>\n",
       "      <td>512dbf09c32206698e000518</td>\n",
       "      <td>6.0</td>\n",
       "      <td>0.0</td>\n",
       "      <td>0.0</td>\n",
       "      <td>23.884</td>\n",
       "      <td>1.0</td>\n",
       "    </tr>\n",
       "    <tr>\n",
       "      <th>2</th>\n",
       "      <td>1470267724823</td>\n",
       "      <td>57a28146e2013f2463dcd0b8</td>\n",
       "      <td>512dbf09c32206698e000518</td>\n",
       "      <td>6.0</td>\n",
       "      <td>0.0</td>\n",
       "      <td>0.0</td>\n",
       "      <td>23.884</td>\n",
       "      <td>1.0</td>\n",
       "    </tr>\n",
       "    <tr>\n",
       "      <th>3</th>\n",
       "      <td>1470267725117</td>\n",
       "      <td>57a28146e2013f2463dcd0b8</td>\n",
       "      <td>512dbf09c32206698e000518</td>\n",
       "      <td>12.0</td>\n",
       "      <td>0.0</td>\n",
       "      <td>0.0</td>\n",
       "      <td>23.884</td>\n",
       "      <td>1.0</td>\n",
       "    </tr>\n",
       "    <tr>\n",
       "      <th>4</th>\n",
       "      <td>1470267725276</td>\n",
       "      <td>57a28146e2013f2463dcd0b8</td>\n",
       "      <td>512dbf09c32206698e000518</td>\n",
       "      <td>12.0</td>\n",
       "      <td>0.0</td>\n",
       "      <td>0.0</td>\n",
       "      <td>23.884</td>\n",
       "      <td>1.0</td>\n",
       "    </tr>\n",
       "  </tbody>\n",
       "</table>\n",
       "</div>"
      ],
      "text/plain": [
       "       timestamp                   task_id                 worker_id  \\\n",
       "0  1470267718900  57a28146e2013f2463dcd0b8  512dbf09c32206698e000518   \n",
       "1  1470267724803  57a28146e2013f2463dcd0b8  512dbf09c32206698e000518   \n",
       "2  1470267724823  57a28146e2013f2463dcd0b8  512dbf09c32206698e000518   \n",
       "3  1470267725117  57a28146e2013f2463dcd0b8  512dbf09c32206698e000518   \n",
       "4  1470267725276  57a28146e2013f2463dcd0b8  512dbf09c32206698e000518   \n",
       "\n",
       "   keypress_keytypeint  mousemove_distance  mouseclick_button  work_duration  \\\n",
       "0                  4.0                 0.0                0.0         23.884   \n",
       "1                  6.0                 0.0                0.0         23.884   \n",
       "2                  6.0                 0.0                0.0         23.884   \n",
       "3                 12.0                 0.0                0.0         23.884   \n",
       "4                 12.0                 0.0                0.0         23.884   \n",
       "\n",
       "   accuracy  \n",
       "0       1.0  \n",
       "1       1.0  \n",
       "2       1.0  \n",
       "3       1.0  \n",
       "4       1.0  "
      ]
     },
     "execution_count": 4,
     "metadata": {},
     "output_type": "execute_result"
    }
   ],
   "source": [
    "df.fillna(0,axis=1,inplace=True)\n",
    "df.head()"
   ]
  },
  {
   "cell_type": "code",
   "execution_count": null,
   "metadata": {
    "collapsed": true
   },
   "outputs": [],
   "source": []
  },
  {
   "cell_type": "raw",
   "metadata": {},
   "source": [
    "# This takes a hell lot of time ..!! Use group by\n",
    "df_test = df['task_id'].unique()\n",
    "df_new = pd.DataFrame(columns=('task_id', 'work_duration', 'accuracy'))\n",
    "for i,j in enumerate(df_test):\n",
    "    df_new.loc[i] = [ j,  df[df['task_id'] == j]['work_duration'].unique()[0] , \n",
    "                      df[df['task_id'] == j]['accuracy'].unique()[0]  ]\n",
    "df_accuracy = pd.DataFrame(df_new)"
   ]
  },
  {
   "cell_type": "code",
   "execution_count": 5,
   "metadata": {
    "collapsed": false,
    "scrolled": true
   },
   "outputs": [
    {
     "data": {
      "text/html": [
       "<div>\n",
       "<table border=\"1\" class=\"dataframe\">\n",
       "  <thead>\n",
       "    <tr style=\"text-align: right;\">\n",
       "      <th></th>\n",
       "      <th>work_duration</th>\n",
       "      <th>accuracy</th>\n",
       "    </tr>\n",
       "    <tr>\n",
       "      <th>task_id</th>\n",
       "      <th></th>\n",
       "      <th></th>\n",
       "    </tr>\n",
       "  </thead>\n",
       "  <tbody>\n",
       "    <tr>\n",
       "      <th>57a280bc296d6d75f3d34350</th>\n",
       "      <td>16.770</td>\n",
       "      <td>1.0</td>\n",
       "    </tr>\n",
       "    <tr>\n",
       "      <th>57a280bc296d6d75f3d34351</th>\n",
       "      <td>32.118</td>\n",
       "      <td>1.0</td>\n",
       "    </tr>\n",
       "    <tr>\n",
       "      <th>57a28146e2013f2463dcd0b8</th>\n",
       "      <td>23.884</td>\n",
       "      <td>1.0</td>\n",
       "    </tr>\n",
       "    <tr>\n",
       "      <th>57a28146e2013f2463dcd0ba</th>\n",
       "      <td>12.470</td>\n",
       "      <td>1.0</td>\n",
       "    </tr>\n",
       "    <tr>\n",
       "      <th>57a28146e2013f2463dcd0bb</th>\n",
       "      <td>13.629</td>\n",
       "      <td>1.0</td>\n",
       "    </tr>\n",
       "  </tbody>\n",
       "</table>\n",
       "</div>"
      ],
      "text/plain": [
       "                          work_duration  accuracy\n",
       "task_id                                          \n",
       "57a280bc296d6d75f3d34350         16.770       1.0\n",
       "57a280bc296d6d75f3d34351         32.118       1.0\n",
       "57a28146e2013f2463dcd0b8         23.884       1.0\n",
       "57a28146e2013f2463dcd0ba         12.470       1.0\n",
       "57a28146e2013f2463dcd0bb         13.629       1.0"
      ]
     },
     "execution_count": 5,
     "metadata": {},
     "output_type": "execute_result"
    }
   ],
   "source": [
    "df_accu = df[['task_id','work_duration','accuracy']]\n",
    "df_accu = df_accu.groupby('task_id').mean()\n",
    "df_accu.head()"
   ]
  },
  {
   "cell_type": "code",
   "execution_count": 6,
   "metadata": {
    "collapsed": false
   },
   "outputs": [
    {
     "ename": "SyntaxError",
     "evalue": "invalid syntax (<ipython-input-6-e221573bfafa>, line 2)",
     "output_type": "error",
     "traceback": [
      "\u001b[0;36m  File \u001b[0;32m\"<ipython-input-6-e221573bfafa>\"\u001b[0;36m, line \u001b[0;32m2\u001b[0m\n\u001b[0;31m    pd.DataFrame[(df_accu[df_accu['accuracy']==1)]\u001b[0m\n\u001b[0m                                                ^\u001b[0m\n\u001b[0;31mSyntaxError\u001b[0m\u001b[0;31m:\u001b[0m invalid syntax\n"
     ]
    }
   ],
   "source": [
    "df_accu.reset_index(level=0, inplace= True)\n",
    "pd.DataFrame[(df_accu[df_accu['accuracy']==1)]"
   ]
  },
  {
   "cell_type": "code",
   "execution_count": 7,
   "metadata": {
    "collapsed": false
   },
   "outputs": [
    {
     "data": {
      "text/html": [
       "<div>\n",
       "<table border=\"1\" class=\"dataframe\">\n",
       "  <thead>\n",
       "    <tr style=\"text-align: right;\">\n",
       "      <th></th>\n",
       "      <th>accuracy</th>\n",
       "    </tr>\n",
       "    <tr>\n",
       "      <th>task_id</th>\n",
       "      <th></th>\n",
       "    </tr>\n",
       "  </thead>\n",
       "  <tbody>\n",
       "    <tr>\n",
       "      <th>57a280bc296d6d75f3d34350</th>\n",
       "      <td>1.000000</td>\n",
       "    </tr>\n",
       "    <tr>\n",
       "      <th>57a280bc296d6d75f3d34351</th>\n",
       "      <td>1.000000</td>\n",
       "    </tr>\n",
       "    <tr>\n",
       "      <th>57a28146e2013f2463dcd0b8</th>\n",
       "      <td>1.000000</td>\n",
       "    </tr>\n",
       "    <tr>\n",
       "      <th>57a28146e2013f2463dcd0ba</th>\n",
       "      <td>1.000000</td>\n",
       "    </tr>\n",
       "    <tr>\n",
       "      <th>57a28146e2013f2463dcd0bb</th>\n",
       "      <td>1.000000</td>\n",
       "    </tr>\n",
       "    <tr>\n",
       "      <th>57a28146e2013f2463dcd0bc</th>\n",
       "      <td>1.000000</td>\n",
       "    </tr>\n",
       "    <tr>\n",
       "      <th>57a28146e2013f2463dcd0bd</th>\n",
       "      <td>1.000000</td>\n",
       "    </tr>\n",
       "    <tr>\n",
       "      <th>57a28147e2013f2463dcd0bf</th>\n",
       "      <td>1.000000</td>\n",
       "    </tr>\n",
       "    <tr>\n",
       "      <th>57a28147e2013f2463dcd0c0</th>\n",
       "      <td>1.000000</td>\n",
       "    </tr>\n",
       "    <tr>\n",
       "      <th>57a28147e2013f2463dcd0c1</th>\n",
       "      <td>1.000000</td>\n",
       "    </tr>\n",
       "    <tr>\n",
       "      <th>57a28147e2013f2463dcd0c2</th>\n",
       "      <td>1.000000</td>\n",
       "    </tr>\n",
       "    <tr>\n",
       "      <th>57a28147e2013f2463dcd0c3</th>\n",
       "      <td>1.000000</td>\n",
       "    </tr>\n",
       "    <tr>\n",
       "      <th>57a281cd296d6d6433d34423</th>\n",
       "      <td>1.000000</td>\n",
       "    </tr>\n",
       "    <tr>\n",
       "      <th>57a281cd296d6d6433d34424</th>\n",
       "      <td>0.833333</td>\n",
       "    </tr>\n",
       "    <tr>\n",
       "      <th>57a281cd296d6d6433d34425</th>\n",
       "      <td>0.833333</td>\n",
       "    </tr>\n",
       "    <tr>\n",
       "      <th>57a281cd296d6d6433d34426</th>\n",
       "      <td>1.000000</td>\n",
       "    </tr>\n",
       "    <tr>\n",
       "      <th>57a281cd296d6d6433d34427</th>\n",
       "      <td>1.000000</td>\n",
       "    </tr>\n",
       "    <tr>\n",
       "      <th>57a281cd296d6d6433d34428</th>\n",
       "      <td>1.000000</td>\n",
       "    </tr>\n",
       "    <tr>\n",
       "      <th>57a281cd296d6d6433d34429</th>\n",
       "      <td>1.000000</td>\n",
       "    </tr>\n",
       "    <tr>\n",
       "      <th>57a281cd296d6d6433d3442a</th>\n",
       "      <td>0.833333</td>\n",
       "    </tr>\n",
       "    <tr>\n",
       "      <th>57a281cd296d6d6433d3442b</th>\n",
       "      <td>0.000000</td>\n",
       "    </tr>\n",
       "    <tr>\n",
       "      <th>57a281cd296d6d6433d3442c</th>\n",
       "      <td>1.000000</td>\n",
       "    </tr>\n",
       "    <tr>\n",
       "      <th>57a281cd296d6d6433d3442d</th>\n",
       "      <td>1.000000</td>\n",
       "    </tr>\n",
       "    <tr>\n",
       "      <th>57a281cd296d6d6433d3442e</th>\n",
       "      <td>0.833333</td>\n",
       "    </tr>\n",
       "    <tr>\n",
       "      <th>57a281e4e2013f2dd794e92d</th>\n",
       "      <td>0.500000</td>\n",
       "    </tr>\n",
       "    <tr>\n",
       "      <th>57a281e4e2013f2dd794e92e</th>\n",
       "      <td>1.000000</td>\n",
       "    </tr>\n",
       "    <tr>\n",
       "      <th>57a281e4e2013f2dd794e92f</th>\n",
       "      <td>0.833333</td>\n",
       "    </tr>\n",
       "    <tr>\n",
       "      <th>57a281e4e2013f2dd794e930</th>\n",
       "      <td>0.833333</td>\n",
       "    </tr>\n",
       "    <tr>\n",
       "      <th>57a281e4e2013f2dd794e931</th>\n",
       "      <td>1.000000</td>\n",
       "    </tr>\n",
       "    <tr>\n",
       "      <th>57a281e4e2013f2dd794e932</th>\n",
       "      <td>0.833333</td>\n",
       "    </tr>\n",
       "    <tr>\n",
       "      <th>...</th>\n",
       "      <td>...</td>\n",
       "    </tr>\n",
       "    <tr>\n",
       "      <th>57a419abe2013f44d894f64b</th>\n",
       "      <td>1.000000</td>\n",
       "    </tr>\n",
       "    <tr>\n",
       "      <th>57a419abe2013f44d894f64c</th>\n",
       "      <td>0.500000</td>\n",
       "    </tr>\n",
       "    <tr>\n",
       "      <th>57a419abe2013f44d894f64d</th>\n",
       "      <td>0.833333</td>\n",
       "    </tr>\n",
       "    <tr>\n",
       "      <th>57a41a6b296d6d5f4ec9ad33</th>\n",
       "      <td>1.000000</td>\n",
       "    </tr>\n",
       "    <tr>\n",
       "      <th>57a41b8ee2013f6ff794f059</th>\n",
       "      <td>1.000000</td>\n",
       "    </tr>\n",
       "    <tr>\n",
       "      <th>57a41b8ee2013f6ff794f05a</th>\n",
       "      <td>0.333333</td>\n",
       "    </tr>\n",
       "    <tr>\n",
       "      <th>57a41bb6296d6d093046e9c2</th>\n",
       "      <td>0.333333</td>\n",
       "    </tr>\n",
       "    <tr>\n",
       "      <th>57a41c37296d6d66c9c9b228</th>\n",
       "      <td>0.833333</td>\n",
       "    </tr>\n",
       "    <tr>\n",
       "      <th>57a41c63e2013f6e5bdccd2e</th>\n",
       "      <td>1.000000</td>\n",
       "    </tr>\n",
       "    <tr>\n",
       "      <th>57a41d44e2013f65425d9aca</th>\n",
       "      <td>0.833333</td>\n",
       "    </tr>\n",
       "    <tr>\n",
       "      <th>57a41d59e2013f7d9394ea17</th>\n",
       "      <td>0.833333</td>\n",
       "    </tr>\n",
       "    <tr>\n",
       "      <th>57a41d59e2013f7d9394ea18</th>\n",
       "      <td>0.833333</td>\n",
       "    </tr>\n",
       "    <tr>\n",
       "      <th>57a41d59e2013f7d9394ea19</th>\n",
       "      <td>0.833333</td>\n",
       "    </tr>\n",
       "    <tr>\n",
       "      <th>57a41dfc296d6d093046eb75</th>\n",
       "      <td>0.666667</td>\n",
       "    </tr>\n",
       "    <tr>\n",
       "      <th>57a41dfc296d6d093046eb76</th>\n",
       "      <td>0.500000</td>\n",
       "    </tr>\n",
       "    <tr>\n",
       "      <th>57a41e42e2013f607294ea49</th>\n",
       "      <td>0.500000</td>\n",
       "    </tr>\n",
       "    <tr>\n",
       "      <th>57a41e42e2013f607294ea4a</th>\n",
       "      <td>0.833333</td>\n",
       "    </tr>\n",
       "    <tr>\n",
       "      <th>57a41e42e2013f607294ea4b</th>\n",
       "      <td>0.500000</td>\n",
       "    </tr>\n",
       "    <tr>\n",
       "      <th>57a41e42e2013f607294ea4c</th>\n",
       "      <td>1.000000</td>\n",
       "    </tr>\n",
       "    <tr>\n",
       "      <th>57a41edbe2013f6e725da17a</th>\n",
       "      <td>1.000000</td>\n",
       "    </tr>\n",
       "    <tr>\n",
       "      <th>57a41f6de2013f47e0dccc65</th>\n",
       "      <td>1.000000</td>\n",
       "    </tr>\n",
       "    <tr>\n",
       "      <th>57a41f6de2013f47e0dccc66</th>\n",
       "      <td>1.000000</td>\n",
       "    </tr>\n",
       "    <tr>\n",
       "      <th>57a41f6de2013f47e0dccc67</th>\n",
       "      <td>0.000000</td>\n",
       "    </tr>\n",
       "    <tr>\n",
       "      <th>57a42103296d6d35f6d34af6</th>\n",
       "      <td>1.000000</td>\n",
       "    </tr>\n",
       "    <tr>\n",
       "      <th>57a42148e2013f6ff794f483</th>\n",
       "      <td>1.000000</td>\n",
       "    </tr>\n",
       "    <tr>\n",
       "      <th>57a4222be2013f65425d9ee7</th>\n",
       "      <td>0.833333</td>\n",
       "    </tr>\n",
       "    <tr>\n",
       "      <th>57a42240296d6d4383d3462f</th>\n",
       "      <td>0.500000</td>\n",
       "    </tr>\n",
       "    <tr>\n",
       "      <th>57a4231ae2013f607294ee43</th>\n",
       "      <td>1.000000</td>\n",
       "    </tr>\n",
       "    <tr>\n",
       "      <th>57a4240ae2013f3f45dccf23</th>\n",
       "      <td>0.833333</td>\n",
       "    </tr>\n",
       "    <tr>\n",
       "      <th>57a4243ee2013f607294ef0e</th>\n",
       "      <td>1.000000</td>\n",
       "    </tr>\n",
       "  </tbody>\n",
       "</table>\n",
       "<p>5000 rows × 1 columns</p>\n",
       "</div>"
      ],
      "text/plain": [
       "                          accuracy\n",
       "task_id                           \n",
       "57a280bc296d6d75f3d34350  1.000000\n",
       "57a280bc296d6d75f3d34351  1.000000\n",
       "57a28146e2013f2463dcd0b8  1.000000\n",
       "57a28146e2013f2463dcd0ba  1.000000\n",
       "57a28146e2013f2463dcd0bb  1.000000\n",
       "57a28146e2013f2463dcd0bc  1.000000\n",
       "57a28146e2013f2463dcd0bd  1.000000\n",
       "57a28147e2013f2463dcd0bf  1.000000\n",
       "57a28147e2013f2463dcd0c0  1.000000\n",
       "57a28147e2013f2463dcd0c1  1.000000\n",
       "57a28147e2013f2463dcd0c2  1.000000\n",
       "57a28147e2013f2463dcd0c3  1.000000\n",
       "57a281cd296d6d6433d34423  1.000000\n",
       "57a281cd296d6d6433d34424  0.833333\n",
       "57a281cd296d6d6433d34425  0.833333\n",
       "57a281cd296d6d6433d34426  1.000000\n",
       "57a281cd296d6d6433d34427  1.000000\n",
       "57a281cd296d6d6433d34428  1.000000\n",
       "57a281cd296d6d6433d34429  1.000000\n",
       "57a281cd296d6d6433d3442a  0.833333\n",
       "57a281cd296d6d6433d3442b  0.000000\n",
       "57a281cd296d6d6433d3442c  1.000000\n",
       "57a281cd296d6d6433d3442d  1.000000\n",
       "57a281cd296d6d6433d3442e  0.833333\n",
       "57a281e4e2013f2dd794e92d  0.500000\n",
       "57a281e4e2013f2dd794e92e  1.000000\n",
       "57a281e4e2013f2dd794e92f  0.833333\n",
       "57a281e4e2013f2dd794e930  0.833333\n",
       "57a281e4e2013f2dd794e931  1.000000\n",
       "57a281e4e2013f2dd794e932  0.833333\n",
       "...                            ...\n",
       "57a419abe2013f44d894f64b  1.000000\n",
       "57a419abe2013f44d894f64c  0.500000\n",
       "57a419abe2013f44d894f64d  0.833333\n",
       "57a41a6b296d6d5f4ec9ad33  1.000000\n",
       "57a41b8ee2013f6ff794f059  1.000000\n",
       "57a41b8ee2013f6ff794f05a  0.333333\n",
       "57a41bb6296d6d093046e9c2  0.333333\n",
       "57a41c37296d6d66c9c9b228  0.833333\n",
       "57a41c63e2013f6e5bdccd2e  1.000000\n",
       "57a41d44e2013f65425d9aca  0.833333\n",
       "57a41d59e2013f7d9394ea17  0.833333\n",
       "57a41d59e2013f7d9394ea18  0.833333\n",
       "57a41d59e2013f7d9394ea19  0.833333\n",
       "57a41dfc296d6d093046eb75  0.666667\n",
       "57a41dfc296d6d093046eb76  0.500000\n",
       "57a41e42e2013f607294ea49  0.500000\n",
       "57a41e42e2013f607294ea4a  0.833333\n",
       "57a41e42e2013f607294ea4b  0.500000\n",
       "57a41e42e2013f607294ea4c  1.000000\n",
       "57a41edbe2013f6e725da17a  1.000000\n",
       "57a41f6de2013f47e0dccc65  1.000000\n",
       "57a41f6de2013f47e0dccc66  1.000000\n",
       "57a41f6de2013f47e0dccc67  0.000000\n",
       "57a42103296d6d35f6d34af6  1.000000\n",
       "57a42148e2013f6ff794f483  1.000000\n",
       "57a4222be2013f65425d9ee7  0.833333\n",
       "57a42240296d6d4383d3462f  0.500000\n",
       "57a4231ae2013f607294ee43  1.000000\n",
       "57a4240ae2013f3f45dccf23  0.833333\n",
       "57a4243ee2013f607294ef0e  1.000000\n",
       "\n",
       "[5000 rows x 1 columns]"
      ]
     },
     "execution_count": 7,
     "metadata": {},
     "output_type": "execute_result"
    }
   ],
   "source": [
    "m = pd.DataFrame(df_accu['accuracy'])\n",
    "m"
   ]
  },
  {
   "cell_type": "code",
   "execution_count": null,
   "metadata": {
    "collapsed": true
   },
   "outputs": [],
   "source": []
  },
  {
   "cell_type": "markdown",
   "metadata": {
    "collapsed": false
   },
   "source": [
    "I am commenting this as it has already being done once. \n",
    "df_accu.to_csv('Duration_accuracy.csv')"
   ]
  },
  {
   "cell_type": "code",
   "execution_count": 8,
   "metadata": {
    "collapsed": false
   },
   "outputs": [],
   "source": [
    "df_accu['mistake'] = 1 - df_accu['accuracy']"
   ]
  },
  {
   "cell_type": "code",
   "execution_count": 9,
   "metadata": {
    "collapsed": false
   },
   "outputs": [
    {
     "data": {
      "text/plain": [
       "0.064000194239626496"
      ]
     },
     "execution_count": 9,
     "metadata": {},
     "output_type": "execute_result"
    }
   ],
   "source": [
    "df_accu['work_duration'].corr(df_accu['accuracy'])"
   ]
  },
  {
   "cell_type": "code",
   "execution_count": 10,
   "metadata": {
    "collapsed": false
   },
   "outputs": [
    {
     "data": {
      "text/html": [
       "<div>\n",
       "<table border=\"1\" class=\"dataframe\">\n",
       "  <thead>\n",
       "    <tr style=\"text-align: right;\">\n",
       "      <th></th>\n",
       "      <th>work_duration</th>\n",
       "      <th>accuracy</th>\n",
       "      <th>mistake</th>\n",
       "    </tr>\n",
       "    <tr>\n",
       "      <th>task_id</th>\n",
       "      <th></th>\n",
       "      <th></th>\n",
       "      <th></th>\n",
       "    </tr>\n",
       "  </thead>\n",
       "  <tbody>\n",
       "    <tr>\n",
       "      <th>57a280bc296d6d75f3d34350</th>\n",
       "      <td>16.770</td>\n",
       "      <td>1.0</td>\n",
       "      <td>0.0</td>\n",
       "    </tr>\n",
       "    <tr>\n",
       "      <th>57a280bc296d6d75f3d34351</th>\n",
       "      <td>32.118</td>\n",
       "      <td>1.0</td>\n",
       "      <td>0.0</td>\n",
       "    </tr>\n",
       "    <tr>\n",
       "      <th>57a28146e2013f2463dcd0b8</th>\n",
       "      <td>23.884</td>\n",
       "      <td>1.0</td>\n",
       "      <td>0.0</td>\n",
       "    </tr>\n",
       "    <tr>\n",
       "      <th>57a28146e2013f2463dcd0ba</th>\n",
       "      <td>12.470</td>\n",
       "      <td>1.0</td>\n",
       "      <td>0.0</td>\n",
       "    </tr>\n",
       "    <tr>\n",
       "      <th>57a28146e2013f2463dcd0bb</th>\n",
       "      <td>13.629</td>\n",
       "      <td>1.0</td>\n",
       "      <td>0.0</td>\n",
       "    </tr>\n",
       "  </tbody>\n",
       "</table>\n",
       "</div>"
      ],
      "text/plain": [
       "                          work_duration  accuracy  mistake\n",
       "task_id                                                   \n",
       "57a280bc296d6d75f3d34350         16.770       1.0      0.0\n",
       "57a280bc296d6d75f3d34351         32.118       1.0      0.0\n",
       "57a28146e2013f2463dcd0b8         23.884       1.0      0.0\n",
       "57a28146e2013f2463dcd0ba         12.470       1.0      0.0\n",
       "57a28146e2013f2463dcd0bb         13.629       1.0      0.0"
      ]
     },
     "execution_count": 10,
     "metadata": {},
     "output_type": "execute_result"
    }
   ],
   "source": [
    "df_accu.head()"
   ]
  },
  {
   "cell_type": "code",
   "execution_count": 11,
   "metadata": {
    "collapsed": false
   },
   "outputs": [
    {
     "data": {
      "text/plain": [
       "<seaborn.axisgrid.JointGrid at 0x17b02964048>"
      ]
     },
     "execution_count": 11,
     "metadata": {},
     "output_type": "execute_result"
    },
    {
     "data": {
      "image/png": "[encoded data removed]",
      "text/plain": [
       "<matplotlib.figure.Figure at 0x17b029640b8>"
      ]
     },
     "metadata": {},
     "output_type": "display_data"
    }
   ],
   "source": [
    "sns.jointplot(x='work_duration',y = 'mistake',data=df_accu)"
   ]
  },
  {
   "cell_type": "code",
   "execution_count": 12,
   "metadata": {
    "collapsed": false
   },
   "outputs": [
    {
     "data": {
      "text/plain": [
       "-0.65908692588517759"
      ]
     },
     "execution_count": 12,
     "metadata": {},
     "output_type": "execute_result"
    }
   ],
   "source": [
    "df_accu['mistake'].cov(df_accu['work_duration'])"
   ]
  },
  {
   "cell_type": "code",
   "execution_count": 13,
   "metadata": {
    "collapsed": false,
    "scrolled": false
   },
   "outputs": [
    {
     "data": {
      "text/plain": [
       "<seaborn.axisgrid.JointGrid at 0x17b0332b8d0>"
      ]
     },
     "execution_count": 13,
     "metadata": {},
     "output_type": "execute_result"
    },
    {
     "data": {
      "image/png": "[encoded data removed]",
      "text/plain": [
       "<matplotlib.figure.Figure at 0x17b02d13b70>"
      ]
     },
     "metadata": {},
     "output_type": "display_data"
    }
   ],
   "source": [
    "sns.jointplot(x='work_duration', y = 'accuracy',data=df_accu)"
   ]
  },
  {
   "cell_type": "code",
   "execution_count": 14,
   "metadata": {
    "collapsed": false
   },
   "outputs": [
    {
     "data": {
      "text/plain": [
       "<matplotlib.axes._subplots.AxesSubplot at 0x17b0341b208>"
      ]
     },
     "execution_count": 14,
     "metadata": {},
     "output_type": "execute_result"
    },
    {
     "data": {
      "image/png": "[encoded data removed]",
      "text/plain": [
       "<matplotlib.figure.Figure at 0x17b036f0da0>"
      ]
     },
     "metadata": {},
     "output_type": "display_data"
    }
   ],
   "source": [
    "sns.heatmap(df.isnull(),yticklabels=False,cbar=False,cmap='viridis')"
   ]
  },
  {
   "cell_type": "markdown",
   "metadata": {},
   "source": [
    "Calculating mistake column and taking correlation with work_duration does not help. As mistake is more of a PERSONAL CHARACTERSTICK rather than time. So let us calculate that correlation for each person. "
   ]
  },
  {
   "cell_type": "code",
   "execution_count": 15,
   "metadata": {
    "collapsed": false
   },
   "outputs": [
    {
     "data": {
      "text/html": [
       "<div>\n",
       "<table border=\"1\" class=\"dataframe\">\n",
       "  <thead>\n",
       "    <tr style=\"text-align: right;\">\n",
       "      <th></th>\n",
       "      <th>task_id</th>\n",
       "      <th>0</th>\n",
       "    </tr>\n",
       "    <tr>\n",
       "      <th>worker_id</th>\n",
       "      <th></th>\n",
       "      <th></th>\n",
       "    </tr>\n",
       "  </thead>\n",
       "  <tbody>\n",
       "    <tr>\n",
       "      <th>503b89aacb02245d320001a4</th>\n",
       "      <td>57a280bc296d6d75f3d34350</td>\n",
       "      <td>49</td>\n",
       "    </tr>\n",
       "    <tr>\n",
       "      <th>503b89aacb02245d320001a4</th>\n",
       "      <td>57a280bc296d6d75f3d34351</td>\n",
       "      <td>65</td>\n",
       "    </tr>\n",
       "    <tr>\n",
       "      <th>512dbf09c32206698e000518</th>\n",
       "      <td>57a28146e2013f2463dcd0b8</td>\n",
       "      <td>56</td>\n",
       "    </tr>\n",
       "    <tr>\n",
       "      <th>512dbf09c32206698e000518</th>\n",
       "      <td>57a28146e2013f2463dcd0ba</td>\n",
       "      <td>43</td>\n",
       "    </tr>\n",
       "    <tr>\n",
       "      <th>512dbf09c32206698e000518</th>\n",
       "      <td>57a28146e2013f2463dcd0bb</td>\n",
       "      <td>43</td>\n",
       "    </tr>\n",
       "  </tbody>\n",
       "</table>\n",
       "</div>"
      ],
      "text/plain": [
       "                                           task_id   0\n",
       "worker_id                                             \n",
       "503b89aacb02245d320001a4  57a280bc296d6d75f3d34350  49\n",
       "503b89aacb02245d320001a4  57a280bc296d6d75f3d34351  65\n",
       "512dbf09c32206698e000518  57a28146e2013f2463dcd0b8  56\n",
       "512dbf09c32206698e000518  57a28146e2013f2463dcd0ba  43\n",
       "512dbf09c32206698e000518  57a28146e2013f2463dcd0bb  43"
      ]
     },
     "execution_count": 15,
     "metadata": {},
     "output_type": "execute_result"
    }
   ],
   "source": [
    "df_accu_work = df[['task_id','work_duration','accuracy','worker_id']]\n",
    "df_accu_work = pd.DataFrame(df_accu_work.groupby(['task_id','worker_id']).size())\n",
    "df_accu_work.reset_index(level=0, inplace= True)\n",
    "df_accu_work.head()"
   ]
  },
  {
   "cell_type": "code",
   "execution_count": 16,
   "metadata": {
    "collapsed": false
   },
   "outputs": [
    {
     "data": {
      "text/html": [
       "<div>\n",
       "<table border=\"1\" class=\"dataframe\">\n",
       "  <thead>\n",
       "    <tr style=\"text-align: right;\">\n",
       "      <th></th>\n",
       "      <th>worker_id</th>\n",
       "      <th>task_id</th>\n",
       "      <th>0</th>\n",
       "    </tr>\n",
       "  </thead>\n",
       "  <tbody>\n",
       "    <tr>\n",
       "      <th>0</th>\n",
       "      <td>503b89aacb02245d320001a4</td>\n",
       "      <td>57a280bc296d6d75f3d34350</td>\n",
       "      <td>49</td>\n",
       "    </tr>\n",
       "    <tr>\n",
       "      <th>1</th>\n",
       "      <td>503b89aacb02245d320001a4</td>\n",
       "      <td>57a280bc296d6d75f3d34351</td>\n",
       "      <td>65</td>\n",
       "    </tr>\n",
       "    <tr>\n",
       "      <th>2</th>\n",
       "      <td>512dbf09c32206698e000518</td>\n",
       "      <td>57a28146e2013f2463dcd0b8</td>\n",
       "      <td>56</td>\n",
       "    </tr>\n",
       "    <tr>\n",
       "      <th>3</th>\n",
       "      <td>512dbf09c32206698e000518</td>\n",
       "      <td>57a28146e2013f2463dcd0ba</td>\n",
       "      <td>43</td>\n",
       "    </tr>\n",
       "    <tr>\n",
       "      <th>4</th>\n",
       "      <td>512dbf09c32206698e000518</td>\n",
       "      <td>57a28146e2013f2463dcd0bb</td>\n",
       "      <td>43</td>\n",
       "    </tr>\n",
       "  </tbody>\n",
       "</table>\n",
       "</div>"
      ],
      "text/plain": [
       "                  worker_id                   task_id   0\n",
       "0  503b89aacb02245d320001a4  57a280bc296d6d75f3d34350  49\n",
       "1  503b89aacb02245d320001a4  57a280bc296d6d75f3d34351  65\n",
       "2  512dbf09c32206698e000518  57a28146e2013f2463dcd0b8  56\n",
       "3  512dbf09c32206698e000518  57a28146e2013f2463dcd0ba  43\n",
       "4  512dbf09c32206698e000518  57a28146e2013f2463dcd0bb  43"
      ]
     },
     "execution_count": 16,
     "metadata": {},
     "output_type": "execute_result"
    }
   ],
   "source": [
    "df_accu_work.reset_index(level=0, inplace= True)\n",
    "df_accu_work.head()"
   ]
  },
  {
   "cell_type": "code",
   "execution_count": 17,
   "metadata": {
    "collapsed": false
   },
   "outputs": [
    {
     "name": "stderr",
     "output_type": "stream",
     "text": [
      "C:\\Users\\Chinmay\\Anaconda3\\lib\\site-packages\\ipykernel\\__main__.py:1: FutureWarning: sort(columns=....) is deprecated, use sort_values(by=.....)\n",
      "  if __name__ == '__main__':\n"
     ]
    }
   ],
   "source": [
    "df_accu_work.sort(0, axis = 0, ascending = False, inplace = True)"
   ]
  },
  {
   "cell_type": "code",
   "execution_count": 18,
   "metadata": {
    "collapsed": false
   },
   "outputs": [
    {
     "data": {
      "text/html": [
       "<div>\n",
       "<table border=\"1\" class=\"dataframe\">\n",
       "  <thead>\n",
       "    <tr style=\"text-align: right;\">\n",
       "      <th></th>\n",
       "      <th>worker_id</th>\n",
       "      <th>task_id</th>\n",
       "      <th>0</th>\n",
       "    </tr>\n",
       "  </thead>\n",
       "  <tbody>\n",
       "    <tr>\n",
       "      <th>124</th>\n",
       "      <td>52833d27863a9990e702e220</td>\n",
       "      <td>57a28712e2013f13df5da190</td>\n",
       "      <td>1669</td>\n",
       "    </tr>\n",
       "    <tr>\n",
       "      <th>2999</th>\n",
       "      <td>518ca54f863a9902a40010db</td>\n",
       "      <td>57a3794e296d6d344cc9a65a</td>\n",
       "      <td>221</td>\n",
       "    </tr>\n",
       "    <tr>\n",
       "      <th>831</th>\n",
       "      <td>50ca9696cb0224456b0012ba</td>\n",
       "      <td>57a2a1ef296d6d687946f1f5</td>\n",
       "      <td>210</td>\n",
       "    </tr>\n",
       "    <tr>\n",
       "      <th>1305</th>\n",
       "      <td>5208c83db684b001ec000c79</td>\n",
       "      <td>57a2b383296d6d019c46e7fd</td>\n",
       "      <td>200</td>\n",
       "    </tr>\n",
       "    <tr>\n",
       "      <th>345</th>\n",
       "      <td>503b89aacb02245d320001a4</td>\n",
       "      <td>57a28f16e2013f2213dcce7b</td>\n",
       "      <td>191</td>\n",
       "    </tr>\n",
       "  </tbody>\n",
       "</table>\n",
       "</div>"
      ],
      "text/plain": [
       "                     worker_id                   task_id     0\n",
       "124   52833d27863a9990e702e220  57a28712e2013f13df5da190  1669\n",
       "2999  518ca54f863a9902a40010db  57a3794e296d6d344cc9a65a   221\n",
       "831   50ca9696cb0224456b0012ba  57a2a1ef296d6d687946f1f5   210\n",
       "1305  5208c83db684b001ec000c79  57a2b383296d6d019c46e7fd   200\n",
       "345   503b89aacb02245d320001a4  57a28f16e2013f2213dcce7b   191"
      ]
     },
     "execution_count": 18,
     "metadata": {},
     "output_type": "execute_result"
    }
   ],
   "source": [
    "df_accu_work.head()"
   ]
  },
  {
   "cell_type": "code",
   "execution_count": null,
   "metadata": {
    "collapsed": true
   },
   "outputs": [],
   "source": []
  },
  {
   "cell_type": "code",
   "execution_count": 19,
   "metadata": {
    "collapsed": false
   },
   "outputs": [],
   "source": [
    "df['mousemove_distance']=df['mousemove_distance']/(df['mousemove_distance'].max())"
   ]
  },
  {
   "cell_type": "code",
   "execution_count": 20,
   "metadata": {
    "collapsed": true
   },
   "outputs": [],
   "source": [
    "df['work_duration']=df['work_duration']/(df['work_duration'].max())"
   ]
  },
  {
   "cell_type": "code",
   "execution_count": 21,
   "metadata": {
    "collapsed": false
   },
   "outputs": [
    {
     "data": {
      "text/plain": [
       "array([ 0.        ,  0.37945579,  0.05683347, ...,  0.18796088,\n",
       "        0.19377844,  0.43588316])"
      ]
     },
     "execution_count": 21,
     "metadata": {},
     "output_type": "execute_result"
    }
   ],
   "source": [
    "df['mousemove_distance'].unique()"
   ]
  },
  {
   "cell_type": "code",
   "execution_count": 22,
   "metadata": {
    "collapsed": false
   },
   "outputs": [
    {
     "data": {
      "text/plain": [
       "array([ 1.        ,  0.5       ,  0.        ,  0.83333333,  0.66666667,\n",
       "        0.33333333,  0.16666667])"
      ]
     },
     "execution_count": 22,
     "metadata": {},
     "output_type": "execute_result"
    }
   ],
   "source": [
    "df['accuracy'].unique()"
   ]
  },
  {
   "cell_type": "code",
   "execution_count": 23,
   "metadata": {
    "collapsed": false
   },
   "outputs": [
    {
     "name": "stderr",
     "output_type": "stream",
     "text": [
      "C:\\Users\\Chinmay\\Anaconda3\\lib\\site-packages\\sklearn\\preprocessing\\label.py:112: DataConversionWarning: A column-vector y was passed when a 1d array was expected. Please change the shape of y to (n_samples, ), for example using ravel().\n",
      "  y = column_or_1d(y, warn=True)\n"
     ]
    }
   ],
   "source": [
    "x = np.c_[df['mousemove_distance'].as_matrix(),df['work_duration'].as_matrix()]\n",
    "\n",
    "col_list=['keypress_keytypeint','mouseclick_button']\n",
    "\n",
    "for col in col_list:\n",
    "    x_pre_encode = df[col].as_matrix()\n",
    "    le = preprocessing.LabelEncoder()\n",
    "    le.fit(x_pre_encode.reshape(x_pre_encode.shape[0],1))\n",
    "    ans = le.transform(x_pre_encode)\n",
    "    \n",
    "    enc = OneHotEncoder()\n",
    "    enc.fit(ans.reshape(x_pre_encode.shape[0],1))\n",
    "    ans1 = enc.transform(ans.reshape(x_pre_encode.shape[0],1)).toarray()\n",
    "    \n",
    "    x = np.c_[x,ans1]\n",
    "    "
   ]
  },
  {
   "cell_type": "code",
   "execution_count": 24,
   "metadata": {
    "collapsed": false
   },
   "outputs": [
    {
     "data": {
      "text/plain": [
       "(239464, 17)"
      ]
     },
     "execution_count": 24,
     "metadata": {},
     "output_type": "execute_result"
    }
   ],
   "source": [
    "x.shape"
   ]
  },
  {
   "cell_type": "code",
   "execution_count": 25,
   "metadata": {
    "collapsed": false
   },
   "outputs": [
    {
     "data": {
      "text/plain": [
       "(239464, 1)"
      ]
     },
     "execution_count": 25,
     "metadata": {},
     "output_type": "execute_result"
    }
   ],
   "source": [
    "y = df['accuracy'].reshape(df['accuracy'].shape[0],1)\n",
    "y.shape"
   ]
  },
  {
   "cell_type": "code",
   "execution_count": 26,
   "metadata": {
    "collapsed": false
   },
   "outputs": [],
   "source": [
    "from sklearn.model_selection import train_test_split"
   ]
  },
  {
   "cell_type": "code",
   "execution_count": 27,
   "metadata": {
    "collapsed": true
   },
   "outputs": [],
   "source": [
    "x_train,x_test,y_train,y_test = train_test_split(x,y,test_size = 0.3, random_state =101)"
   ]
  },
  {
   "cell_type": "code",
   "execution_count": 28,
   "metadata": {
    "collapsed": true
   },
   "outputs": [],
   "source": [
    "from sklearn.linear_model import LinearRegression"
   ]
  },
  {
   "cell_type": "code",
   "execution_count": 29,
   "metadata": {
    "collapsed": true
   },
   "outputs": [],
   "source": [
    "lm = LinearRegression()"
   ]
  },
  {
   "cell_type": "code",
   "execution_count": 30,
   "metadata": {
    "collapsed": false
   },
   "outputs": [
    {
     "data": {
      "text/plain": [
       "LinearRegression(copy_X=True, fit_intercept=True, n_jobs=1, normalize=False)"
      ]
     },
     "execution_count": 30,
     "metadata": {},
     "output_type": "execute_result"
    }
   ],
   "source": [
    "lm.fit(x_train, y_train)"
   ]
  },
  {
   "cell_type": "code",
   "execution_count": 35,
   "metadata": {
    "collapsed": false
   },
   "outputs": [
    {
     "ename": "AttributeError",
     "evalue": "'numpy.ndarray' object has no attribute 'columns'",
     "output_type": "error",
     "traceback": [
      "\u001b[0;31m---------------------------------------------------------------------------\u001b[0m",
      "\u001b[0;31mAttributeError\u001b[0m                            Traceback (most recent call last)",
      "\u001b[0;32m<ipython-input-35-e1ea9fb2143b>\u001b[0m in \u001b[0;36m<module>\u001b[0;34m()\u001b[0m\n\u001b[0;32m----> 1\u001b[0;31m \u001b[0mcoef\u001b[0m \u001b[1;33m=\u001b[0m \u001b[0mpd\u001b[0m\u001b[1;33m.\u001b[0m\u001b[0mDataFrame\u001b[0m\u001b[1;33m(\u001b[0m\u001b[0mlm\u001b[0m\u001b[1;33m.\u001b[0m\u001b[0mcoef_\u001b[0m \u001b[1;33m,\u001b[0m \u001b[0mcolumns\u001b[0m \u001b[1;33m=\u001b[0m \u001b[0mx_test\u001b[0m\u001b[1;33m.\u001b[0m\u001b[0mcolumns\u001b[0m\u001b[1;33m)\u001b[0m\u001b[1;33m\u001b[0m\u001b[0m\n\u001b[0m",
      "\u001b[0;31mAttributeError\u001b[0m: 'numpy.ndarray' object has no attribute 'columns'"
     ]
    }
   ],
   "source": [
    "coef = pd.DataFrame(lm.coef_ , columns = x_test.columns)"
   ]
  },
  {
   "cell_type": "code",
   "execution_count": 32,
   "metadata": {
    "collapsed": true
   },
   "outputs": [],
   "source": [
    "predictions = lm.predict(x_test)"
   ]
  },
  {
   "cell_type": "code",
   "execution_count": 33,
   "metadata": {
    "collapsed": false
   },
   "outputs": [
    {
     "data": {
      "text/plain": [
       "<matplotlib.collections.PathCollection at 0x17b029f41d0>"
      ]
     },
     "execution_count": 33,
     "metadata": {},
     "output_type": "execute_result"
    },
    {
     "data": {
      "image/png": "[encoded data removed]",
      "text/plain": [
       "<matplotlib.figure.Figure at 0x17b036829e8>"
      ]
     },
     "metadata": {},
     "output_type": "display_data"
    }
   ],
   "source": [
    "plt.scatter(predictions, y_test)"
   ]
  },
  {
   "cell_type": "code",
   "execution_count": 34,
   "metadata": {
    "collapsed": false
   },
   "outputs": [
    {
     "name": "stderr",
     "output_type": "stream",
     "text": [
      "C:\\Users\\Chinmay\\Anaconda3\\lib\\site-packages\\statsmodels\\nonparametric\\kdetools.py:20: VisibleDeprecationWarning: using a non-integer number instead of an integer will result in an error in the future\n",
      "  y = X[:m/2+1] + np.r_[0,X[m/2+1:],0]*1j\n"
     ]
    },
    {
     "data": {
      "text/plain": [
       "<matplotlib.axes._subplots.AxesSubplot at 0x17b0378ecf8>"
      ]
     },
     "execution_count": 34,
     "metadata": {},
     "output_type": "execute_result"
    },
    {
     "data": {
      "image/png": "[encoded data removed]",
      "text/plain": [
       "<matplotlib.figure.Figure at 0x17b037c14e0>"
      ]
     },
     "metadata": {},
     "output_type": "display_data"
    }
   ],
   "source": [
    "sns.distplot((y_test-predictions))"
   ]
  },
  {
   "cell_type": "code",
   "execution_count": null,
   "metadata": {
    "collapsed": false
   },
   "outputs": [],
   "source": [
    "X = pd.DataFrame(x)\n",
    "X"
   ]
  },
  {
   "cell_type": "code",
   "execution_count": null,
   "metadata": {
    "collapsed": false
   },
   "outputs": [],
   "source": [
    "df.columns"
   ]
  },
  {
   "cell_type": "code",
   "execution_count": null,
   "metadata": {
    "collapsed": false
   },
   "outputs": [],
   "source": [
    "df['task_id'].unique()"
   ]
  },
  {
   "cell_type": "code",
   "execution_count": null,
   "metadata": {
    "collapsed": false
   },
   "outputs": [],
   "source": [
    "df.info()"
   ]
  },
  {
   "cell_type": "code",
   "execution_count": null,
   "metadata": {
    "collapsed": false
   },
   "outputs": [],
   "source": [
    "df[df['task_id']=='57a28146e2013f2463dcd0ba']"
   ]
  },
  {
   "cell_type": "code",
   "execution_count": null,
   "metadata": {
    "collapsed": true
   },
   "outputs": [],
   "source": []
  }
 ],
 "metadata": {
  "anaconda-cloud": {},
  "kernelspec": {
   "display_name": "Python [default]",
   "language": "python",
   "name": "python3"
  },
  "language_info": {
   "codemirror_mode": {
    "name": "ipython",
    "version": 3
   },
   "file_extension": ".py",
   "mimetype": "text/x-python",
   "name": "python",
   "nbconvert_exporter": "python",
   "pygments_lexer": "ipython3",
   "version": "3.5.2"
  }
 },
 "nbformat": 4,
 "nbformat_minor": 1
}
