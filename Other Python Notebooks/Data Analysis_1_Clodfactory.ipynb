{
 "cells": [
  {
   "cell_type": "markdown",
   "metadata": {},
   "source": [
    "### Importing all the libararies "
   ]
  },
  {
   "cell_type": "code",
   "execution_count": 1,
   "metadata": {
    "collapsed": true
   },
   "outputs": [],
   "source": [
    "import pandas as pd\n",
    "import numpy as np\n",
    "import seaborn as sns\n",
    "import matplotlib.pyplot as plt\n",
    "% matplotlib inline\n",
    "from sklearn.ensemble import RandomForestClassifier\n",
    "from sklearn.preprocessing import robust_scale\n",
    "from sklearn import preprocessing\n",
    "from sklearn.preprocessing import OneHotEncoder\n",
    "from sklearn import metrics\n",
    "from sklearn.model_selection import train_test_split\n",
    "from sklearn import datasets, linear_model\n",
    "import scipy.stats as stats\n",
    "import statistics"
   ]
  },
  {
   "cell_type": "markdown",
   "metadata": {},
   "source": [
    "df = pd.read_csv('CloudFactory_DataSet_Accuracy_Prediction.tsv', sep='\\t')\n",
    "df.head()"
   ]
  },
  {
   "cell_type": "markdown",
   "metadata": {},
   "source": [
    "### Reading the Data "
   ]
  },
  {
   "cell_type": "code",
   "execution_count": 2,
   "metadata": {
    "collapsed": false
   },
   "outputs": [
    {
     "data": {
      "text/html": [
       "<div>\n",
       "<table border=\"1\" class=\"dataframe\">\n",
       "  <thead>\n",
       "    <tr style=\"text-align: right;\">\n",
       "      <th></th>\n",
       "      <th>timestamp</th>\n",
       "      <th>task_id</th>\n",
       "      <th>worker_id</th>\n",
       "      <th>keypress_keytypeint</th>\n",
       "      <th>mousemove_distance</th>\n",
       "      <th>mouseclick_button</th>\n",
       "      <th>work_duration</th>\n",
       "      <th>accuracy</th>\n",
       "    </tr>\n",
       "  </thead>\n",
       "  <tbody>\n",
       "    <tr>\n",
       "      <th>0</th>\n",
       "      <td>1470267718900</td>\n",
       "      <td>57a28146e2013f2463dcd0b8</td>\n",
       "      <td>512dbf09c32206698e000518</td>\n",
       "      <td>4.0</td>\n",
       "      <td>NaN</td>\n",
       "      <td>NaN</td>\n",
       "      <td>23.884</td>\n",
       "      <td>1.0</td>\n",
       "    </tr>\n",
       "    <tr>\n",
       "      <th>1</th>\n",
       "      <td>1470267724803</td>\n",
       "      <td>57a28146e2013f2463dcd0b8</td>\n",
       "      <td>512dbf09c32206698e000518</td>\n",
       "      <td>6.0</td>\n",
       "      <td>NaN</td>\n",
       "      <td>NaN</td>\n",
       "      <td>23.884</td>\n",
       "      <td>1.0</td>\n",
       "    </tr>\n",
       "    <tr>\n",
       "      <th>2</th>\n",
       "      <td>1470267724823</td>\n",
       "      <td>57a28146e2013f2463dcd0b8</td>\n",
       "      <td>512dbf09c32206698e000518</td>\n",
       "      <td>6.0</td>\n",
       "      <td>NaN</td>\n",
       "      <td>NaN</td>\n",
       "      <td>23.884</td>\n",
       "      <td>1.0</td>\n",
       "    </tr>\n",
       "    <tr>\n",
       "      <th>3</th>\n",
       "      <td>1470267725117</td>\n",
       "      <td>57a28146e2013f2463dcd0b8</td>\n",
       "      <td>512dbf09c32206698e000518</td>\n",
       "      <td>12.0</td>\n",
       "      <td>NaN</td>\n",
       "      <td>NaN</td>\n",
       "      <td>23.884</td>\n",
       "      <td>1.0</td>\n",
       "    </tr>\n",
       "    <tr>\n",
       "      <th>4</th>\n",
       "      <td>1470267725276</td>\n",
       "      <td>57a28146e2013f2463dcd0b8</td>\n",
       "      <td>512dbf09c32206698e000518</td>\n",
       "      <td>12.0</td>\n",
       "      <td>NaN</td>\n",
       "      <td>NaN</td>\n",
       "      <td>23.884</td>\n",
       "      <td>1.0</td>\n",
       "    </tr>\n",
       "  </tbody>\n",
       "</table>\n",
       "</div>"
      ],
      "text/plain": [
       "       timestamp                   task_id                 worker_id  \\\n",
       "0  1470267718900  57a28146e2013f2463dcd0b8  512dbf09c32206698e000518   \n",
       "1  1470267724803  57a28146e2013f2463dcd0b8  512dbf09c32206698e000518   \n",
       "2  1470267724823  57a28146e2013f2463dcd0b8  512dbf09c32206698e000518   \n",
       "3  1470267725117  57a28146e2013f2463dcd0b8  512dbf09c32206698e000518   \n",
       "4  1470267725276  57a28146e2013f2463dcd0b8  512dbf09c32206698e000518   \n",
       "\n",
       "   keypress_keytypeint  mousemove_distance  mouseclick_button  work_duration  \\\n",
       "0                  4.0                 NaN                NaN         23.884   \n",
       "1                  6.0                 NaN                NaN         23.884   \n",
       "2                  6.0                 NaN                NaN         23.884   \n",
       "3                 12.0                 NaN                NaN         23.884   \n",
       "4                 12.0                 NaN                NaN         23.884   \n",
       "\n",
       "   accuracy  \n",
       "0       1.0  \n",
       "1       1.0  \n",
       "2       1.0  \n",
       "3       1.0  \n",
       "4       1.0  "
      ]
     },
     "execution_count": 2,
     "metadata": {},
     "output_type": "execute_result"
    }
   ],
   "source": [
    "df = pd.read_csv('CloudFactory_DataSet_Accuracy_Prediction.tsv', sep='\\t')\n",
    "df.head()"
   ]
  },
  {
   "cell_type": "code",
   "execution_count": 3,
   "metadata": {
    "collapsed": false
   },
   "outputs": [
    {
     "name": "stdout",
     "output_type": "stream",
     "text": [
      "<class 'pandas.core.frame.DataFrame'>\n",
      "RangeIndex: 239464 entries, 0 to 239463\n",
      "Data columns (total 8 columns):\n",
      "timestamp              239464 non-null int64\n",
      "task_id                239464 non-null object\n",
      "worker_id              239464 non-null object\n",
      "keypress_keytypeint    186671 non-null float64\n",
      "mousemove_distance     24430 non-null float64\n",
      "mouseclick_button      28608 non-null float64\n",
      "work_duration          239464 non-null float64\n",
      "accuracy               239464 non-null float64\n",
      "dtypes: float64(5), int64(1), object(2)\n",
      "memory usage: 14.6+ MB\n"
     ]
    }
   ],
   "source": [
    "df.info()"
   ]
  },
  {
   "cell_type": "markdown",
   "metadata": {},
   "source": [
    "### PDA - Seeing unique values"
   ]
  },
  {
   "cell_type": "code",
   "execution_count": 4,
   "metadata": {
    "collapsed": false
   },
   "outputs": [
    {
     "data": {
      "text/plain": [
       "array([ 1.        ,  0.5       ,  0.        ,  0.83333333,  0.66666667,\n",
       "        0.33333333,  0.16666667])"
      ]
     },
     "execution_count": 4,
     "metadata": {},
     "output_type": "execute_result"
    }
   ],
   "source": [
    "df['accuracy'].unique()"
   ]
  },
  {
   "cell_type": "code",
   "execution_count": 5,
   "metadata": {
    "collapsed": false
   },
   "outputs": [
    {
     "data": {
      "text/plain": [
       "93"
      ]
     },
     "execution_count": 5,
     "metadata": {},
     "output_type": "execute_result"
    }
   ],
   "source": [
    "df['worker_id'].nunique()"
   ]
  },
  {
   "cell_type": "code",
   "execution_count": 6,
   "metadata": {
    "collapsed": false
   },
   "outputs": [
    {
     "data": {
      "text/plain": [
       "5000"
      ]
     },
     "execution_count": 6,
     "metadata": {},
     "output_type": "execute_result"
    }
   ],
   "source": [
    "df['task_id'].nunique()"
   ]
  },
  {
   "cell_type": "code",
   "execution_count": 7,
   "metadata": {
    "collapsed": false
   },
   "outputs": [
    {
     "data": {
      "text/plain": [
       "12"
      ]
     },
     "execution_count": 7,
     "metadata": {},
     "output_type": "execute_result"
    }
   ],
   "source": [
    "df['keypress_keytypeint'].nunique()"
   ]
  },
  {
   "cell_type": "code",
   "execution_count": 8,
   "metadata": {
    "collapsed": false
   },
   "outputs": [
    {
     "name": "stdout",
     "output_type": "stream",
     "text": [
      "Maximum value of Mousemove Distance in pixesls is 1337.70325558\n",
      "-----\n",
      "Minimum value of Mousemove Distance in pixesls is 0.0\n"
     ]
    }
   ],
   "source": [
    "print ('Maximum value of Mousemove Distance in pixesls is',df['mousemove_distance'].max())\n",
    "print ('-----')\n",
    "print ('Minimum value of Mousemove Distance in pixesls is',df['mousemove_distance'].min())"
   ]
  },
  {
   "cell_type": "code",
   "execution_count": 9,
   "metadata": {
    "collapsed": false
   },
   "outputs": [
    {
     "name": "stdout",
     "output_type": "stream",
     "text": [
      "Maximum work duration 413.602\n",
      "Minimum work duration 1.986\n"
     ]
    }
   ],
   "source": [
    "print ('Maximum work duration', df['work_duration'].max())\n",
    "print ('Minimum work duration', df['work_duration'].min())"
   ]
  },
  {
   "cell_type": "code",
   "execution_count": 55,
   "metadata": {
    "collapsed": false
   },
   "outputs": [
    {
     "data": {
      "text/plain": [
       "1.0    28608\n",
       "Name: mouseclick_button, dtype: int64"
      ]
     },
     "execution_count": 55,
     "metadata": {},
     "output_type": "execute_result"
    }
   ],
   "source": [
    "df['mouseclick_button'].value_counts()"
   ]
  },
  {
   "cell_type": "markdown",
   "metadata": {},
   "source": [
    "### PDA - seeing accuracy vs work duration\n"
   ]
  },
  {
   "cell_type": "code",
   "execution_count": 47,
   "metadata": {
    "collapsed": false
   },
   "outputs": [
    {
     "data": {
      "text/html": [
       "<div>\n",
       "<table border=\"1\" class=\"dataframe\">\n",
       "  <thead>\n",
       "    <tr style=\"text-align: right;\">\n",
       "      <th></th>\n",
       "      <th>task_id</th>\n",
       "      <th>work_duration</th>\n",
       "      <th>accuracy</th>\n",
       "    </tr>\n",
       "  </thead>\n",
       "  <tbody>\n",
       "    <tr>\n",
       "      <th>0</th>\n",
       "      <td>57a280bc296d6d75f3d34350</td>\n",
       "      <td>16.770</td>\n",
       "      <td>1.0</td>\n",
       "    </tr>\n",
       "    <tr>\n",
       "      <th>1</th>\n",
       "      <td>57a280bc296d6d75f3d34351</td>\n",
       "      <td>32.118</td>\n",
       "      <td>1.0</td>\n",
       "    </tr>\n",
       "    <tr>\n",
       "      <th>2</th>\n",
       "      <td>57a28146e2013f2463dcd0b8</td>\n",
       "      <td>23.884</td>\n",
       "      <td>1.0</td>\n",
       "    </tr>\n",
       "    <tr>\n",
       "      <th>3</th>\n",
       "      <td>57a28146e2013f2463dcd0ba</td>\n",
       "      <td>12.470</td>\n",
       "      <td>1.0</td>\n",
       "    </tr>\n",
       "    <tr>\n",
       "      <th>4</th>\n",
       "      <td>57a28146e2013f2463dcd0bb</td>\n",
       "      <td>13.629</td>\n",
       "      <td>1.0</td>\n",
       "    </tr>\n",
       "  </tbody>\n",
       "</table>\n",
       "</div>"
      ],
      "text/plain": [
       "                    task_id  work_duration  accuracy\n",
       "0  57a280bc296d6d75f3d34350         16.770       1.0\n",
       "1  57a280bc296d6d75f3d34351         32.118       1.0\n",
       "2  57a28146e2013f2463dcd0b8         23.884       1.0\n",
       "3  57a28146e2013f2463dcd0ba         12.470       1.0\n",
       "4  57a28146e2013f2463dcd0bb         13.629       1.0"
      ]
     },
     "execution_count": 47,
     "metadata": {},
     "output_type": "execute_result"
    }
   ],
   "source": [
    "df_accu = df[['task_id','work_duration','accuracy']]\n",
    "df_accu = df_accu.groupby('task_id').mean()\n",
    "df_accu.reset_index(level=0,inplace= True)\n",
    "df_accu.head()"
   ]
  },
  {
   "cell_type": "code",
   "execution_count": 48,
   "metadata": {
    "collapsed": false
   },
   "outputs": [
    {
     "data": {
      "text/plain": [
       "<matplotlib.axes._subplots.AxesSubplot at 0x19741a0e518>"
      ]
     },
     "execution_count": 48,
     "metadata": {},
     "output_type": "execute_result"
    },
    {
     "data": {
      "image/png": "[encoded data removed]",
      "text/plain": [
       "<matplotlib.figure.Figure at 0x197419eb160>"
      ]
     },
     "metadata": {},
     "output_type": "display_data"
    }
   ],
   "source": [
    "sns.distplot(df_accu['accuracy'], kde = False)"
   ]
  },
  {
   "cell_type": "code",
   "execution_count": 49,
   "metadata": {
    "collapsed": false
   },
   "outputs": [],
   "source": [
    "df_accu['accuracy'] = df_accu['accuracy'] * 6"
   ]
  },
  {
   "cell_type": "code",
   "execution_count": 50,
   "metadata": {
    "collapsed": false,
    "scrolled": true
   },
   "outputs": [
    {
     "data": {
      "text/plain": [
       "6.0    2626\n",
       "3.0     476\n",
       "0.0     475\n",
       "5.0     250\n",
       "5.0     103\n",
       "5.0     100\n",
       "1.0      96\n",
       "4.0      86\n",
       "5.0      85\n",
       "5.0      83\n",
       "5.0      56\n",
       "5.0      54\n",
       "5.0      53\n",
       "5.0      53\n",
       "5.0      37\n",
       "4.0      28\n",
       "5.0      28\n",
       "1.0      26\n",
       "4.0      18\n",
       "4.0      17\n",
       "4.0      15\n",
       "1.0      15\n",
       "4.0      14\n",
       "1.0      14\n",
       "1.0      13\n",
       "1.0      13\n",
       "5.0      13\n",
       "1.0      12\n",
       "4.0      11\n",
       "2.0      11\n",
       "       ... \n",
       "4.0       8\n",
       "4.0       8\n",
       "1.0       7\n",
       "1.0       7\n",
       "2.0       7\n",
       "4.0       6\n",
       "4.0       6\n",
       "1.0       6\n",
       "2.0       5\n",
       "1.0       5\n",
       "2.0       5\n",
       "4.0       4\n",
       "2.0       4\n",
       "2.0       4\n",
       "4.0       4\n",
       "2.0       3\n",
       "2.0       3\n",
       "1.0       2\n",
       "5.0       2\n",
       "5.0       2\n",
       "2.0       2\n",
       "4.0       2\n",
       "5.0       1\n",
       "2.0       1\n",
       "5.0       1\n",
       "2.0       1\n",
       "1.0       1\n",
       "5.0       1\n",
       "1.0       1\n",
       "5.0       1\n",
       "Name: accuracy, dtype: int64"
      ]
     },
     "execution_count": 50,
     "metadata": {},
     "output_type": "execute_result"
    }
   ],
   "source": [
    "df_accu['accuracy'].value_counts()"
   ]
  },
  {
   "cell_type": "code",
   "execution_count": 51,
   "metadata": {
    "collapsed": false
   },
   "outputs": [],
   "source": [
    "df_accu['accuracy'] = df_accu['accuracy'].round()"
   ]
  },
  {
   "cell_type": "code",
   "execution_count": 52,
   "metadata": {
    "collapsed": false
   },
   "outputs": [
    {
     "data": {
      "text/plain": [
       "6.0    2626\n",
       "5.0     923\n",
       "3.0     476\n",
       "0.0     475\n",
       "4.0     227\n",
       "1.0     218\n",
       "2.0      55\n",
       "Name: accuracy, dtype: int64"
      ]
     },
     "execution_count": 52,
     "metadata": {},
     "output_type": "execute_result"
    }
   ],
   "source": [
    "df_accu['accuracy'].value_counts()"
   ]
  },
  {
   "cell_type": "markdown",
   "metadata": {},
   "source": [
    "### Accuracy vs work duration"
   ]
  },
  {
   "cell_type": "code",
   "execution_count": 15,
   "metadata": {
    "collapsed": false
   },
   "outputs": [
    {
     "data": {
      "text/plain": [
       "<seaborn.axisgrid.JointGrid at 0x197402e2e80>"
      ]
     },
     "execution_count": 15,
     "metadata": {},
     "output_type": "execute_result"
    },
    {
     "data": {
      "image/png": "[encoded data removed]",
      "text/plain": [
       "<matplotlib.figure.Figure at 0x197402e2ac8>"
      ]
     },
     "metadata": {},
     "output_type": "display_data"
    }
   ],
   "source": [
    "sns.jointplot(y = 'accuracy', x = 'work_duration', data = df_accu)"
   ]
  },
  {
   "cell_type": "code",
   "execution_count": 40,
   "metadata": {
    "collapsed": false
   },
   "outputs": [
    {
     "data": {
      "text/plain": [
       "<seaborn.axisgrid.FacetGrid at 0x197416ea898>"
      ]
     },
     "execution_count": 40,
     "metadata": {},
     "output_type": "execute_result"
    },
    {
     "data": {
      "image/png": "[encoded data removed]",
      "text/plain": [
       "<matplotlib.figure.Figure at 0x197416ea9b0>"
      ]
     },
     "metadata": {},
     "output_type": "display_data"
    }
   ],
   "source": [
    "sns.lmplot(x='work_duration', y='accuracy',data=df_accu)"
   ]
  },
  {
   "cell_type": "code",
   "execution_count": 16,
   "metadata": {
    "collapsed": false
   },
   "outputs": [
    {
     "data": {
      "text/plain": [
       "0.064000194239626454"
      ]
     },
     "execution_count": 16,
     "metadata": {},
     "output_type": "execute_result"
    }
   ],
   "source": [
    "df_accu['accuracy'].corr(df_accu['work_duration'])"
   ]
  },
  {
   "cell_type": "markdown",
   "metadata": {},
   "source": [
    "> Since this data is inconclusive, let us try running linear regression"
   ]
  },
  {
   "cell_type": "code",
   "execution_count": 17,
   "metadata": {
    "collapsed": false
   },
   "outputs": [
    {
     "data": {
      "text/plain": [
       "1.000000    128845\n",
       "0.833333     46514\n",
       "0.000000     20263\n",
       "0.500000     17222\n",
       "0.666667     12565\n",
       "0.166667     11509\n",
       "0.333333      2546\n",
       "Name: accuracy, dtype: int64"
      ]
     },
     "execution_count": 17,
     "metadata": {},
     "output_type": "execute_result"
    }
   ],
   "source": [
    "df_new = df.fillna(0, axis=1)\n",
    "df_new['accuray'] = df_new['accuracy'] * 6 \n",
    "df_new['accuracy'].value_counts()"
   ]
  },
  {
   "cell_type": "markdown",
   "metadata": {},
   "source": [
    "## Making a matrix with avg mousemove_distance, avg mousclick button and accuracy "
   ]
  },
  {
   "cell_type": "code",
   "execution_count": 18,
   "metadata": {
    "collapsed": false
   },
   "outputs": [],
   "source": [
    "df_accu_LR = df_new[['task_id','work_duration','accuracy','mousemove_distance','mouseclick_button']]\n",
    "df_accu_LR = df_accu_LR.groupby('task_id').mean()\n",
    "df_accu_LR.reset_index(level=0,inplace= True)"
   ]
  },
  {
   "cell_type": "code",
   "execution_count": 19,
   "metadata": {
    "collapsed": false
   },
   "outputs": [
    {
     "data": {
      "text/html": [
       "<div>\n",
       "<table border=\"1\" class=\"dataframe\">\n",
       "  <thead>\n",
       "    <tr style=\"text-align: right;\">\n",
       "      <th></th>\n",
       "      <th>task_id</th>\n",
       "      <th>work_duration</th>\n",
       "      <th>accuracy</th>\n",
       "      <th>mousemove_distance</th>\n",
       "      <th>mouseclick_button</th>\n",
       "    </tr>\n",
       "  </thead>\n",
       "  <tbody>\n",
       "    <tr>\n",
       "      <th>0</th>\n",
       "      <td>57a280bc296d6d75f3d34350</td>\n",
       "      <td>16.770</td>\n",
       "      <td>1.0</td>\n",
       "      <td>2.817967</td>\n",
       "      <td>0.020408</td>\n",
       "    </tr>\n",
       "    <tr>\n",
       "      <th>1</th>\n",
       "      <td>57a280bc296d6d75f3d34351</td>\n",
       "      <td>32.118</td>\n",
       "      <td>1.0</td>\n",
       "      <td>1.357787</td>\n",
       "      <td>0.123077</td>\n",
       "    </tr>\n",
       "    <tr>\n",
       "      <th>2</th>\n",
       "      <td>57a28146e2013f2463dcd0b8</td>\n",
       "      <td>23.884</td>\n",
       "      <td>1.0</td>\n",
       "      <td>10.421885</td>\n",
       "      <td>0.035714</td>\n",
       "    </tr>\n",
       "    <tr>\n",
       "      <th>3</th>\n",
       "      <td>57a28146e2013f2463dcd0ba</td>\n",
       "      <td>12.470</td>\n",
       "      <td>1.0</td>\n",
       "      <td>0.000000</td>\n",
       "      <td>0.023256</td>\n",
       "    </tr>\n",
       "    <tr>\n",
       "      <th>4</th>\n",
       "      <td>57a28146e2013f2463dcd0bb</td>\n",
       "      <td>13.629</td>\n",
       "      <td>1.0</td>\n",
       "      <td>0.000000</td>\n",
       "      <td>0.000000</td>\n",
       "    </tr>\n",
       "  </tbody>\n",
       "</table>\n",
       "</div>"
      ],
      "text/plain": [
       "                    task_id  work_duration  accuracy  mousemove_distance  \\\n",
       "0  57a280bc296d6d75f3d34350         16.770       1.0            2.817967   \n",
       "1  57a280bc296d6d75f3d34351         32.118       1.0            1.357787   \n",
       "2  57a28146e2013f2463dcd0b8         23.884       1.0           10.421885   \n",
       "3  57a28146e2013f2463dcd0ba         12.470       1.0            0.000000   \n",
       "4  57a28146e2013f2463dcd0bb         13.629       1.0            0.000000   \n",
       "\n",
       "   mouseclick_button  \n",
       "0           0.020408  \n",
       "1           0.123077  \n",
       "2           0.035714  \n",
       "3           0.023256  \n",
       "4           0.000000  "
      ]
     },
     "execution_count": 19,
     "metadata": {},
     "output_type": "execute_result"
    }
   ],
   "source": [
    "df_accu_LR.head()"
   ]
  },
  {
   "cell_type": "code",
   "execution_count": 54,
   "metadata": {
    "collapsed": false
   },
   "outputs": [
    {
     "data": {
      "text/plain": [
       "0.000000    678\n",
       "0.142857     49\n",
       "0.125000     48\n",
       "0.166667     47\n",
       "0.062500     46\n",
       "0.031250     41\n",
       "0.111111     39\n",
       "0.100000     39\n",
       "0.083333     38\n",
       "0.055556     37\n",
       "0.076923     37\n",
       "0.052632     36\n",
       "0.035714     35\n",
       "0.043478     35\n",
       "0.058824     35\n",
       "0.066667     35\n",
       "0.050000     35\n",
       "0.200000     34\n",
       "0.038462     34\n",
       "0.090909     33\n",
       "0.032258     33\n",
       "0.047619     32\n",
       "0.028571     31\n",
       "0.034483     31\n",
       "0.071429     30\n",
       "0.033333     28\n",
       "0.041667     28\n",
       "0.153846     27\n",
       "0.285714     27\n",
       "0.025641     26\n",
       "           ... \n",
       "0.818182      1\n",
       "0.279070      1\n",
       "0.689655      1\n",
       "0.159420      1\n",
       "0.065934      1\n",
       "0.473684      1\n",
       "0.626016      1\n",
       "0.280488      1\n",
       "0.011905      1\n",
       "0.397849      1\n",
       "0.169643      1\n",
       "0.258621      1\n",
       "0.213333      1\n",
       "0.515152      1\n",
       "0.367347      1\n",
       "0.356250      1\n",
       "0.323944      1\n",
       "0.237500      1\n",
       "0.391892      1\n",
       "0.833333      1\n",
       "0.661017      1\n",
       "0.382353      1\n",
       "0.025862      1\n",
       "0.072289      1\n",
       "0.517647      1\n",
       "0.350427      1\n",
       "0.274510      1\n",
       "0.623377      1\n",
       "0.175439      1\n",
       "0.368421      1\n",
       "Name: mouseclick_button, dtype: int64"
      ]
     },
     "execution_count": 54,
     "metadata": {},
     "output_type": "execute_result"
    }
   ],
   "source": [
    "df_accu_LR['mouseclick_button'].value_counts()"
   ]
  },
  {
   "cell_type": "markdown",
   "metadata": {},
   "source": [
    "> In the above matrix that we can see, the mousemove_distance and mouseclick_button are average over the time period\n",
    "\n",
    "> Let us try plotting avg mousemove distance per unit time vs accuracy"
   ]
  },
  {
   "cell_type": "code",
   "execution_count": 20,
   "metadata": {
    "collapsed": false
   },
   "outputs": [
    {
     "data": {
      "text/plain": [
       "(5000,)"
      ]
     },
     "execution_count": 20,
     "metadata": {},
     "output_type": "execute_result"
    }
   ],
   "source": [
    "df_accu_LR['mousemove_distance'].corr(df_accu_LR['accuracy'])\n",
    "df_accu_LR['mousemove_distance'].shape"
   ]
  },
  {
   "cell_type": "markdown",
   "metadata": {},
   "source": [
    "> This data is not that significant. But still negative correlation gives us somewhat idea"
   ]
  },
  {
   "cell_type": "code",
   "execution_count": 21,
   "metadata": {
    "collapsed": false
   },
   "outputs": [
    {
     "data": {
      "text/plain": [
       "<seaborn.axisgrid.JointGrid at 0x197405595c0>"
      ]
     },
     "execution_count": 21,
     "metadata": {},
     "output_type": "execute_result"
    },
    {
     "data": {
      "image/png": "[encoded data removed]",
      "text/plain": [
       "<matplotlib.figure.Figure at 0x197405596a0>"
      ]
     },
     "metadata": {},
     "output_type": "display_data"
    }
   ],
   "source": [
    "sns.jointplot(x='mousemove_distance', y='accuracy', data=df_accu_LR)"
   ]
  },
  {
   "cell_type": "code",
   "execution_count": 53,
   "metadata": {
    "collapsed": false
   },
   "outputs": [
    {
     "data": {
      "text/plain": [
       "0.064000194239626496"
      ]
     },
     "execution_count": 53,
     "metadata": {},
     "output_type": "execute_result"
    }
   ],
   "source": [
    "df_accu_LR['accuracy'].corr(df_accu_LR['work_duration'])"
   ]
  },
  {
   "cell_type": "code",
   "execution_count": 42,
   "metadata": {
    "collapsed": false
   },
   "outputs": [
    {
     "data": {
      "text/plain": [
       "<seaborn.axisgrid.FacetGrid at 0x197418e1e10>"
      ]
     },
     "execution_count": 42,
     "metadata": {},
     "output_type": "execute_result"
    },
    {
     "data": {
      "image/png": "[encoded data removed]",
      "text/plain": [
       "<matplotlib.figure.Figure at 0x197418e1eb8>"
      ]
     },
     "metadata": {},
     "output_type": "display_data"
    }
   ],
   "source": [
    "sns.lmplot(x='mousemove_distance', y='accuracy',data = df_accu_LR)"
   ]
  },
  {
   "cell_type": "code",
   "execution_count": 22,
   "metadata": {
    "collapsed": false
   },
   "outputs": [],
   "source": [
    "df_accu_LR.to_csv('Avg_mat.csv')"
   ]
  },
  {
   "cell_type": "markdown",
   "metadata": {},
   "source": [
    "> Let us try similar thing for mouseclick button value and accuracy"
   ]
  },
  {
   "cell_type": "code",
   "execution_count": 23,
   "metadata": {
    "collapsed": false
   },
   "outputs": [
    {
     "data": {
      "text/plain": [
       "-0.070949998920810053"
      ]
     },
     "execution_count": 23,
     "metadata": {},
     "output_type": "execute_result"
    }
   ],
   "source": [
    "df_accu_LR['mouseclick_button'].corr(df['accuracy'])"
   ]
  },
  {
   "cell_type": "markdown",
   "metadata": {},
   "source": [
    "> Again, the negative correlation gives us somewhat idea that as mouseclick increases, accuracy decreses "
   ]
  },
  {
   "cell_type": "code",
   "execution_count": 24,
   "metadata": {
    "collapsed": false
   },
   "outputs": [
    {
     "data": {
      "text/plain": [
       "<seaborn.axisgrid.JointGrid at 0x19740dcee48>"
      ]
     },
     "execution_count": 24,
     "metadata": {},
     "output_type": "execute_result"
    },
    {
     "data": {
      "image/png": "[encoded data removed]",
      "text/plain": [
       "<matplotlib.figure.Figure at 0x19740dcef60>"
      ]
     },
     "metadata": {},
     "output_type": "display_data"
    }
   ],
   "source": [
    "sns.jointplot(x = 'mouseclick_button', y = 'accuracy', data = df_accu_LR)"
   ]
  },
  {
   "cell_type": "code",
   "execution_count": 43,
   "metadata": {
    "collapsed": false
   },
   "outputs": [
    {
     "data": {
      "text/plain": [
       "<seaborn.axisgrid.FacetGrid at 0x197419a0e10>"
      ]
     },
     "execution_count": 43,
     "metadata": {},
     "output_type": "execute_result"
    },
    {
     "data": {
      "image/png": "[encoded data removed]",
      "text/plain": [
       "<matplotlib.figure.Figure at 0x197419a0898>"
      ]
     },
     "metadata": {},
     "output_type": "display_data"
    }
   ],
   "source": [
    "sns.lmplot(x='mouseclick_button', y='accuracy', data =df_accu_LR)"
   ]
  },
  {
   "cell_type": "markdown",
   "metadata": {
    "collapsed": true
   },
   "source": [
    "> Lets try linear regression on this new matrix. "
   ]
  },
  {
   "cell_type": "code",
   "execution_count": 25,
   "metadata": {
    "collapsed": false
   },
   "outputs": [],
   "source": [
    "x = pd.DataFrame(df_accu_LR[['mousemove_distance','mouseclick_button','work_duration']])\n",
    "y = pd.DataFrame(df_accu_LR['accuracy'])"
   ]
  },
  {
   "cell_type": "code",
   "execution_count": 26,
   "metadata": {
    "collapsed": true
   },
   "outputs": [],
   "source": [
    "from sklearn.model_selection import train_test_split\n",
    "x_train, x_test, y_train, y_test = train_test_split( x, y, test_size = 0.4, random_state = 101)"
   ]
  },
  {
   "cell_type": "code",
   "execution_count": 27,
   "metadata": {
    "collapsed": false
   },
   "outputs": [
    {
     "data": {
      "text/plain": [
       "LinearRegression(copy_X=True, fit_intercept=True, n_jobs=1, normalize=False)"
      ]
     },
     "execution_count": 27,
     "metadata": {},
     "output_type": "execute_result"
    }
   ],
   "source": [
    "from sklearn.linear_model import LinearRegression\n",
    "lm = LinearRegression()\n",
    "lm.fit(x_train, y_train)"
   ]
  },
  {
   "cell_type": "code",
   "execution_count": 28,
   "metadata": {
    "collapsed": false
   },
   "outputs": [
    {
     "data": {
      "text/html": [
       "<div>\n",
       "<table border=\"1\" class=\"dataframe\">\n",
       "  <thead>\n",
       "    <tr style=\"text-align: right;\">\n",
       "      <th></th>\n",
       "      <th>mousemove_distance</th>\n",
       "      <th>mouseclick_button</th>\n",
       "      <th>work_duration</th>\n",
       "    </tr>\n",
       "  </thead>\n",
       "  <tbody>\n",
       "    <tr>\n",
       "      <th>0</th>\n",
       "      <td>-0.000433</td>\n",
       "      <td>-0.422308</td>\n",
       "      <td>0.000921</td>\n",
       "    </tr>\n",
       "  </tbody>\n",
       "</table>\n",
       "</div>"
      ],
      "text/plain": [
       "   mousemove_distance  mouseclick_button  work_duration\n",
       "0           -0.000433          -0.422308       0.000921"
      ]
     },
     "execution_count": 28,
     "metadata": {},
     "output_type": "execute_result"
    }
   ],
   "source": [
    "coef = pd.DataFrame(lm.coef_ , columns = x_test.columns)\n",
    "coef"
   ]
  },
  {
   "cell_type": "code",
   "execution_count": 29,
   "metadata": {
    "collapsed": true
   },
   "outputs": [],
   "source": [
    "predictions = lm.predict(x_test)"
   ]
  },
  {
   "cell_type": "code",
   "execution_count": 30,
   "metadata": {
    "collapsed": false,
    "scrolled": true
   },
   "outputs": [
    {
     "data": {
      "text/plain": [
       "<matplotlib.collections.PathCollection at 0x197411ee978>"
      ]
     },
     "execution_count": 30,
     "metadata": {},
     "output_type": "execute_result"
    },
    {
     "data": {
      "image/png": "[encoded data removed]",
      "text/plain": [
       "<matplotlib.figure.Figure at 0x19741333d30>"
      ]
     },
     "metadata": {},
     "output_type": "display_data"
    }
   ],
   "source": [
    "plt.scatter ( predictions, y_test)"
   ]
  },
  {
   "cell_type": "code",
   "execution_count": 31,
   "metadata": {
    "collapsed": false
   },
   "outputs": [],
   "source": [
    "predict_y = pd.DataFrame(predictions)"
   ]
  },
  {
   "cell_type": "code",
   "execution_count": 32,
   "metadata": {
    "collapsed": false
   },
   "outputs": [],
   "source": [
    "predict_y[0] = predict_y * 6\n",
    "predict_y[0] = predict_y[0].round()"
   ]
  },
  {
   "cell_type": "code",
   "execution_count": 33,
   "metadata": {
    "collapsed": false
   },
   "outputs": [
    {
     "data": {
      "text/plain": [
       "5.0    1444\n",
       "4.0     523\n",
       "3.0      21\n",
       "6.0      12\n",
       "Name: 0, dtype: int64"
      ]
     },
     "execution_count": 33,
     "metadata": {},
     "output_type": "execute_result"
    }
   ],
   "source": [
    "predict_y[0].value_counts()"
   ]
  },
  {
   "cell_type": "code",
   "execution_count": 34,
   "metadata": {
    "collapsed": false
   },
   "outputs": [
    {
     "name": "stderr",
     "output_type": "stream",
     "text": [
      "C:\\Users\\Chinmay\\Anaconda3\\lib\\site-packages\\ipykernel\\__main__.py:1: SettingWithCopyWarning: \n",
      "A value is trying to be set on a copy of a slice from a DataFrame.\n",
      "Try using .loc[row_indexer,col_indexer] = value instead\n",
      "\n",
      "See the caveats in the documentation: http://pandas.pydata.org/pandas-docs/stable/indexing.html#indexing-view-versus-copy\n",
      "  if __name__ == '__main__':\n"
     ]
    }
   ],
   "source": [
    "y_test['accuracy'] = y_test['accuracy'] * 6"
   ]
  },
  {
   "cell_type": "code",
   "execution_count": 35,
   "metadata": {
    "collapsed": false,
    "scrolled": true
   },
   "outputs": [
    {
     "name": "stderr",
     "output_type": "stream",
     "text": [
      "C:\\Users\\Chinmay\\Anaconda3\\lib\\site-packages\\ipykernel\\__main__.py:1: SettingWithCopyWarning: \n",
      "A value is trying to be set on a copy of a slice from a DataFrame.\n",
      "Try using .loc[row_indexer,col_indexer] = value instead\n",
      "\n",
      "See the caveats in the documentation: http://pandas.pydata.org/pandas-docs/stable/indexing.html#indexing-view-versus-copy\n",
      "  if __name__ == '__main__':\n"
     ]
    }
   ],
   "source": [
    "y_test['accuracy'] = y_test['accuracy'].round()"
   ]
  },
  {
   "cell_type": "code",
   "execution_count": 36,
   "metadata": {
    "collapsed": false
   },
   "outputs": [
    {
     "data": {
      "text/plain": [
       "6.0    1036\n",
       "5.0     402\n",
       "0.0     193\n",
       "3.0     178\n",
       "4.0      85\n",
       "1.0      83\n",
       "2.0      23\n",
       "Name: accuracy, dtype: int64"
      ]
     },
     "execution_count": 36,
     "metadata": {},
     "output_type": "execute_result"
    }
   ],
   "source": [
    "y_test['accuracy'].value_counts()"
   ]
  },
  {
   "cell_type": "code",
   "execution_count": 37,
   "metadata": {
    "collapsed": false
   },
   "outputs": [
    {
     "name": "stderr",
     "output_type": "stream",
     "text": [
      "C:\\Users\\Chinmay\\Anaconda3\\lib\\site-packages\\statsmodels\\nonparametric\\kdetools.py:20: VisibleDeprecationWarning: using a non-integer number instead of an integer will result in an error in the future\n",
      "  y = X[:m/2+1] + np.r_[0,X[m/2+1:],0]*1j\n"
     ]
    },
    {
     "data": {
      "text/plain": [
       "<matplotlib.axes._subplots.AxesSubplot at 0x19740cac320>"
      ]
     },
     "execution_count": 37,
     "metadata": {},
     "output_type": "execute_result"
    },
    {
     "data": {
      "image/png": "[encoded data removed]",
      "text/plain": [
       "<matplotlib.figure.Figure at 0x19741146fd0>"
      ]
     },
     "metadata": {},
     "output_type": "display_data"
    }
   ],
   "source": [
    "sns.distplot((y_test-predictions))"
   ]
  },
  {
   "cell_type": "code",
   "execution_count": 38,
   "metadata": {
    "collapsed": false
   },
   "outputs": [
    {
     "data": {
      "text/plain": [
       "<matplotlib.collections.PathCollection at 0x197416d3320>"
      ]
     },
     "execution_count": 38,
     "metadata": {},
     "output_type": "execute_result"
    },
    {
     "data": {
      "image/png": "[encoded data removed]",
      "text/plain": [
       "<matplotlib.figure.Figure at 0x197412d10b8>"
      ]
     },
     "metadata": {},
     "output_type": "display_data"
    }
   ],
   "source": [
    "plt.scatter(predict_y[0],y_test['accuracy'])"
   ]
  },
  {
   "cell_type": "markdown",
   "metadata": {},
   "source": [
    "   >Now, lets calculate correlation"
   ]
  },
  {
   "cell_type": "code",
   "execution_count": 39,
   "metadata": {
    "collapsed": false
   },
   "outputs": [
    {
     "data": {
      "text/plain": [
       "-0.0095305683693789056"
      ]
     },
     "execution_count": 39,
     "metadata": {},
     "output_type": "execute_result"
    }
   ],
   "source": [
    "y_test['accuracy'].corr(predict_y[0])"
   ]
  },
  {
   "cell_type": "markdown",
   "metadata": {
    "collapsed": true
   },
   "source": [
    "> So the correlation is -0.0095. That does not tell us a lot ...!!!\n",
    ">> Let us try something else"
   ]
  },
  {
   "cell_type": "code",
   "execution_count": null,
   "metadata": {
    "collapsed": true
   },
   "outputs": [],
   "source": []
  }
 ],
 "metadata": {
  "anaconda-cloud": {},
  "kernelspec": {
   "display_name": "Python [conda root]",
   "language": "python",
   "name": "conda-root-py"
  },
  "language_info": {
   "codemirror_mode": {
    "name": "ipython",
    "version": 3
   },
   "file_extension": ".py",
   "mimetype": "text/x-python",
   "name": "python",
   "nbconvert_exporter": "python",
   "pygments_lexer": "ipython3",
   "version": "3.5.2"
  }
 },
 "nbformat": 4,
 "nbformat_minor": 1
}
